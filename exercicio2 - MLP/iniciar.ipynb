{
 "cells": [
  {
   "cell_type": "code",
   "execution_count": 1,
   "metadata": {},
   "outputs": [],
   "source": [
    "xor2 = [\n",
    "    ([0,0], [1]),\n",
    "    ([0,1], [0]),\n",
    "    ([1,0], [0]),\n",
    "    ([1,1], [1]),\n",
    "]\n",
    "\n",
    "xor3 = [\n",
    "    ([0,0,0], [1]),\n",
    "    ([0,0,1], [0]),\n",
    "    ([0,1,0], [0]),\n",
    "    ([0,1,1], [1]),\n",
    "    ([1,0,0], [0]),\n",
    "    ([1,0,1], [1]),\n",
    "    ([1,1,0], [1]),\n",
    "    ([1,1,1], [0]),\n",
    "]\n",
    "\n",
    "xor4 = [\n",
    "    ([0,0,0,0], [1]),\n",
    "    ([0,0,0,1], [0]),\n",
    "    ([0,0,1,0], [0]),\n",
    "    ([0,0,1,1], [1]),\n",
    "    ([0,1,0,0], [0]),\n",
    "    ([0,1,0,1], [1]),\n",
    "    ([0,1,1,0], [1]),\n",
    "    ([0,1,1,1], [0]),\n",
    "    ([1,0,0,0], [0]),\n",
    "    ([1,0,0,1], [1]),\n",
    "    ([1,0,1,0], [0]),\n",
    "    ([1,0,1,1], [1]),\n",
    "    ([1,1,0,0], [1]),\n",
    "    ([1,1,0,1], [0]),\n",
    "    ([1,1,1,0], [0]),\n",
    "    ([1,1,1,1], [1]),\n",
    "]"
   ]
  },
  {
   "cell_type": "code",
   "execution_count": 2,
   "metadata": {},
   "outputs": [],
   "source": [
    "from src.mlp import MLP\n",
    "rede = MLP([4,4,1])"
   ]
  },
  {
   "cell_type": "code",
   "execution_count": 3,
   "metadata": {},
   "outputs": [
    {
     "name": "stdout",
     "output_type": "stream",
     "text": [
      "XOR(0, 0, 0, 0) = [0.21463486]\n",
      "XOR(0, 0, 0, 1) = [0.2100035]\n",
      "XOR(0, 0, 1, 0) = [0.20900741]\n",
      "XOR(0, 0, 1, 1) = [0.20499651]\n",
      "XOR(0, 1, 0, 0) = [0.17371436]\n",
      "XOR(0, 1, 0, 1) = [0.16790055]\n",
      "XOR(0, 1, 1, 0) = [0.16886776]\n",
      "XOR(0, 1, 1, 1) = [0.16424145]\n",
      "XOR(1, 0, 0, 0) = [0.21858518]\n",
      "XOR(1, 0, 0, 1) = [0.20437045]\n",
      "XOR(1, 0, 1, 0) = [0.21547498]\n",
      "XOR(1, 0, 1, 1) = [0.20253292]\n",
      "XOR(1, 1, 0, 0) = [0.17654239]\n",
      "XOR(1, 1, 0, 1) = [0.1707626]\n",
      "XOR(1, 1, 1, 0) = [0.16917868]\n",
      "XOR(1, 1, 1, 1) = [0.16568653]\n"
     ]
    }
   ],
   "source": [
    "for a in range(2):\n",
    "    for b in range(2):\n",
    "        for c in range(2):\n",
    "            for d in range(2):\n",
    "                y, _ = rede.feedforward([a,b,c,d])\n",
    "                print('XOR({}, {}, {}, {}) = {}'.format(a,b,c,d,y[0]))"
   ]
  },
  {
   "cell_type": "code",
   "execution_count": 4,
   "metadata": {},
   "outputs": [
    {
     "name": "stdout",
     "output_type": "stream",
     "text": [
      "Epoca: 00000 | MSE: 0.32411712\n",
      "Epoca: 01000 | MSE: 0.00595344\n",
      "Epoca: 02000 | MSE: 0.00139312\n",
      "Epoca: 03000 | MSE: 0.00077244\n",
      "Epoca: 04000 | MSE: 0.00053162\n",
      "Epoca: 05000 | MSE: 0.00040438\n",
      "Epoca: 06000 | MSE: 0.00032590\n",
      "Epoca: 07000 | MSE: 0.00027272\n",
      "Epoca: 08000 | MSE: 0.00023434\n",
      "Epoca: 09000 | MSE: 0.00020536\n",
      "Epoca: 10000 | MSE: 0.00018270\n",
      "Epoca: 11000 | MSE: 0.00016452\n",
      "Epoca: 12000 | MSE: 0.00014960\n",
      "Epoca: 13000 | MSE: 0.00013714\n",
      "Epoca: 14000 | MSE: 0.00012658\n",
      "Epoca: 15000 | MSE: 0.00011752\n",
      "Epoca: 16000 | MSE: 0.00010967\n",
      "Epoca: 17000 | MSE: 0.00010279\n",
      "Epoca: 18000 | MSE: 0.00009671\n",
      "Epoca: 19000 | MSE: 0.00009131\n"
     ]
    }
   ],
   "source": [
    "rede.treino(amostras=xor4, lim_epocas=20000, taxa=0.5)"
   ]
  },
  {
   "cell_type": "code",
   "execution_count": 5,
   "metadata": {},
   "outputs": [
    {
     "name": "stdout",
     "output_type": "stream",
     "text": [
      "XOR(0, 0, 0, 0) = [0.99555986]\n",
      "XOR(0, 0, 0, 1) = [0.01157549]\n",
      "XOR(0, 0, 1, 0) = [0.00367719]\n",
      "XOR(0, 0, 1, 1) = [0.99528413]\n",
      "XOR(0, 1, 0, 0) = [0.0104507]\n",
      "XOR(0, 1, 0, 1) = [0.98486091]\n",
      "XOR(0, 1, 1, 0) = [0.98927432]\n",
      "XOR(0, 1, 1, 1) = [0.01059214]\n",
      "XOR(1, 0, 0, 0) = [0.01559851]\n",
      "XOR(1, 0, 0, 1) = [0.98956459]\n",
      "XOR(1, 0, 1, 0) = [0.00019072]\n",
      "XOR(1, 0, 1, 1) = [0.99070463]\n",
      "XOR(1, 1, 0, 0) = [0.99567343]\n",
      "XOR(1, 1, 0, 1) = [0.01201]\n",
      "XOR(1, 1, 1, 0) = [0.00295769]\n",
      "XOR(1, 1, 1, 1) = [0.99577135]\n"
     ]
    }
   ],
   "source": [
    "for a in range(2):\n",
    "    for b in range(2):\n",
    "        for c in range(2):\n",
    "            for d in range(2):\n",
    "                y, _ = rede.feedforward([a,b,c,d])\n",
    "                print('XOR({}, {}, {}, {}) = {}'.format(a,b,c,d,y[0]))"
   ]
  },
  {
   "cell_type": "code",
   "execution_count": 6,
   "metadata": {},
   "outputs": [
    {
     "data": {
      "text/plain": [
       "[array([[-5.95342282, -4.87325104,  6.65450889, -5.64635833],\n",
       "        [ 5.9168529 ,  4.81206017, -6.42571145,  5.56925839],\n",
       "        [ 1.28562701,  6.52240846,  6.70733304, -3.08521071],\n",
       "        [-1.96599279, -6.56759653, -6.56256329,  9.68446272]]),\n",
       " array([[ 10.10748732],\n",
       "        [-10.1296559 ],\n",
       "        [ 10.42674969],\n",
       "        [  9.5264129 ]])]"
      ]
     },
     "execution_count": 6,
     "metadata": {},
     "output_type": "execute_result"
    }
   ],
   "source": [
    "rede.pesos"
   ]
  },
  {
   "cell_type": "code",
   "execution_count": 7,
   "metadata": {},
   "outputs": [
    {
     "data": {
      "text/plain": [
       "[array([[-0.76306271, -1.98443485,  2.78183839,  2.03719713]]),\n",
       " array([[-14.82348556]])]"
      ]
     },
     "execution_count": 7,
     "metadata": {},
     "output_type": "execute_result"
    }
   ],
   "source": [
    "rede.bias"
   ]
  }
 ],
 "metadata": {
  "interpreter": {
   "hash": "c32e92a0d8c75da1fb8fc5ee6212cadd32588b5e5f5af321237b5fa01cf9c517"
  },
  "kernelspec": {
   "display_name": "Python 3.9.7 ('formacao-cientista')",
   "language": "python",
   "name": "python3"
  },
  "language_info": {
   "codemirror_mode": {
    "name": "ipython",
    "version": 3
   },
   "file_extension": ".py",
   "mimetype": "text/x-python",
   "name": "python",
   "nbconvert_exporter": "python",
   "pygments_lexer": "ipython3",
   "version": "3.9.7"
  },
  "orig_nbformat": 4
 },
 "nbformat": 4,
 "nbformat_minor": 2
}
