{
 "cells": [
  {
   "cell_type": "code",
   "execution_count": 1,
   "metadata": {},
   "outputs": [],
   "source": [
    "from src.mlp import MLP"
   ]
  },
  {
   "cell_type": "code",
   "execution_count": 2,
   "metadata": {},
   "outputs": [],
   "source": [
    "rede = MLP([2,2,1])"
   ]
  },
  {
   "cell_type": "code",
   "execution_count": 3,
   "metadata": {},
   "outputs": [
    {
     "name": "stdout",
     "output_type": "stream",
     "text": [
      "0 0 [[0.75142708]]\n",
      "0 1 [[0.76018933]]\n",
      "1 0 [[0.77744844]]\n",
      "1 1 [[0.78368837]]\n"
     ]
    }
   ],
   "source": [
    "for a in range(2):\n",
    "    for b in range(2):\n",
    "        y, _ = rede.feedforward([a,b])\n",
    "        print(a, b, y)"
   ]
  },
  {
   "cell_type": "code",
   "execution_count": 4,
   "metadata": {},
   "outputs": [
    {
     "name": "stdout",
     "output_type": "stream",
     "text": [
      "Epoca: 1000 | MSE: 1.043\n",
      "Epoca: 2000 | MSE: 1.042\n",
      "Epoca: 3000 | MSE: 1.043\n",
      "Epoca: 4000 | MSE: 1.042\n",
      "Epoca: 5000 | MSE: 1.042\n",
      "Epoca: 6000 | MSE: 1.042\n",
      "Epoca: 7000 | MSE: 1.042\n",
      "Epoca: 8000 | MSE: 1.042\n",
      "Epoca: 9000 | MSE: 1.042\n",
      "Epoca: 10000 | MSE: 1.042\n"
     ]
    }
   ],
   "source": [
    "amostras = [\n",
    "    ([0,0], [1]),\n",
    "    ([0,1], [0]),\n",
    "    ([1,0], [0]),\n",
    "    ([1,1], [1]),\n",
    "]\n",
    "\n",
    "rede.treino(amostras, lim_epocas=10000, taxa=0.7)"
   ]
  },
  {
   "cell_type": "code",
   "execution_count": 5,
   "metadata": {},
   "outputs": [
    {
     "name": "stdout",
     "output_type": "stream",
     "text": [
      "0 0 [[0.50222032]]\n",
      "0 1 [[0.50135402]]\n",
      "1 0 [[0.50220542]]\n",
      "1 1 [[0.50135159]]\n"
     ]
    }
   ],
   "source": [
    "for a in range(2):\n",
    "    for b in range(2):\n",
    "        y, _ = rede.feedforward([a,b])\n",
    "        print(a, b, y)"
   ]
  },
  {
   "cell_type": "markdown",
   "metadata": {},
   "source": []
  }
 ],
 "metadata": {
  "interpreter": {
   "hash": "c32e92a0d8c75da1fb8fc5ee6212cadd32588b5e5f5af321237b5fa01cf9c517"
  },
  "kernelspec": {
   "display_name": "Python 3.9.7 ('formacao-cientista')",
   "language": "python",
   "name": "python3"
  },
  "language_info": {
   "codemirror_mode": {
    "name": "ipython",
    "version": 3
   },
   "file_extension": ".py",
   "mimetype": "text/x-python",
   "name": "python",
   "nbconvert_exporter": "python",
   "pygments_lexer": "ipython3",
   "version": "3.9.7"
  },
  "orig_nbformat": 4
 },
 "nbformat": 4,
 "nbformat_minor": 2
}
