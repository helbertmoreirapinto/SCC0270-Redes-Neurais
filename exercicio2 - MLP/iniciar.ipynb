{
 "cells": [
  {
   "cell_type": "code",
   "execution_count": 1,
   "metadata": {},
   "outputs": [],
   "source": [
    "xor2 = [\n",
    "    ([0,0], [1,1]),\n",
    "    ([0,1], [0,0]),\n",
    "    ([1,0], [0,0]),\n",
    "    ([1,1], [1,1]),\n",
    "]\n",
    "\n",
    "xor3 = [\n",
    "    ([0,0,0], [1]),\n",
    "    ([0,0,1], [0]),\n",
    "    ([0,1,0], [0]),\n",
    "    ([0,1,1], [1]),\n",
    "    ([1,0,0], [0]),\n",
    "    ([1,0,1], [1]),\n",
    "    ([1,1,0], [1]),\n",
    "    ([1,1,1], [0]),\n",
    "]\n",
    "\n",
    "xor4 = [\n",
    "    ([0,0,0,0], [1]),\n",
    "    ([0,0,0,1], [0]),\n",
    "    ([0,0,1,0], [0]),\n",
    "    ([0,0,1,1], [1]),\n",
    "    ([0,1,0,0], [0]),\n",
    "    ([0,1,0,1], [1]),\n",
    "    ([0,1,1,0], [1]),\n",
    "    ([0,1,1,1], [0]),\n",
    "    ([1,0,0,0], [0]),\n",
    "    ([1,0,0,1], [1]),\n",
    "    ([1,0,1,0], [0]),\n",
    "    ([1,0,1,1], [1]),\n",
    "    ([1,1,0,0], [1]),\n",
    "    ([1,1,0,1], [0]),\n",
    "    ([1,1,1,0], [0]),\n",
    "    ([1,1,1,1], [1]),\n",
    "]"
   ]
  },
  {
   "cell_type": "code",
   "execution_count": 2,
   "metadata": {},
   "outputs": [
    {
     "name": "stdout",
     "output_type": "stream",
     "text": [
      "0 0 [[0.57830145 0.64984399]]\n",
      "0 1 [[0.57104882 0.66915996]]\n",
      "1 0 [[0.61388642 0.65628157]]\n",
      "1 1 [[0.60948469 0.67419643]]\n"
     ]
    }
   ],
   "source": [
    "from src.mlp import MLP\n",
    "rede = MLP([2,2,2])\n",
    "\n",
    "for a in range(2):\n",
    "    for b in range(2):\n",
    "        y, _ = rede.feedforward([a,b])\n",
    "        print(a, b, y)"
   ]
  },
  {
   "cell_type": "code",
   "execution_count": 3,
   "metadata": {},
   "outputs": [
    {
     "name": "stdout",
     "output_type": "stream",
     "text": [
      "Epoca: 0000 | MSE: 2.200\n",
      "Epoca: 1000 | MSE: 2.060\n",
      "Epoca: 2000 | MSE: 2.063\n",
      "Epoca: 3000 | MSE: 2.061\n",
      "Epoca: 4000 | MSE: 2.060\n",
      "Epoca: 5000 | MSE: 2.060\n",
      "Epoca: 6000 | MSE: 2.060\n",
      "Epoca: 7000 | MSE: 2.060\n",
      "Epoca: 8000 | MSE: 2.060\n",
      "Epoca: 9000 | MSE: 2.060\n"
     ]
    }
   ],
   "source": [
    "rede.treino(amostras=xor2, lim_epocas=10000, taxa=0.5)"
   ]
  },
  {
   "cell_type": "code",
   "execution_count": 4,
   "metadata": {},
   "outputs": [
    {
     "name": "stdout",
     "output_type": "stream",
     "text": [
      "0 0 [[0.5012039  0.50166873]]\n",
      "0 1 [[0.50098245 0.50075113]]\n",
      "1 0 [[0.5014307  0.50150403]]\n",
      "1 1 [[0.50103181 0.50071234]]\n"
     ]
    }
   ],
   "source": [
    "for a in range(2):\n",
    "    for b in range(2):\n",
    "        y, _ = rede.feedforward([a,b])\n",
    "        print(a, b, y)"
   ]
  },
  {
   "cell_type": "markdown",
   "metadata": {},
   "source": []
  }
 ],
 "metadata": {
  "interpreter": {
   "hash": "c32e92a0d8c75da1fb8fc5ee6212cadd32588b5e5f5af321237b5fa01cf9c517"
  },
  "kernelspec": {
   "display_name": "Python 3.9.7 ('formacao-cientista')",
   "language": "python",
   "name": "python3"
  },
  "language_info": {
   "codemirror_mode": {
    "name": "ipython",
    "version": 3
   },
   "file_extension": ".py",
   "mimetype": "text/x-python",
   "name": "python",
   "nbconvert_exporter": "python",
   "pygments_lexer": "ipython3",
   "version": "3.9.7"
  },
  "orig_nbformat": 4
 },
 "nbformat": 4,
 "nbformat_minor": 2
}
