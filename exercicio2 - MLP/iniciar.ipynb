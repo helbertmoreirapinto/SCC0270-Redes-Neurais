{
 "cells": [
  {
   "cell_type": "code",
   "execution_count": 1,
   "metadata": {},
   "outputs": [],
   "source": [
    "xor2 = [\n",
    "    ([0,0], [1]),\n",
    "    ([0,1], [0]),\n",
    "    ([1,0], [0]),\n",
    "    ([1,1], [1]),\n",
    "]\n",
    "\n",
    "xor3 = [\n",
    "    ([0,0,0], [1]),\n",
    "    ([0,0,1], [0]),\n",
    "    ([0,1,0], [0]),\n",
    "    ([0,1,1], [1]),\n",
    "    ([1,0,0], [0]),\n",
    "    ([1,0,1], [1]),\n",
    "    ([1,1,0], [1]),\n",
    "    ([1,1,1], [0]),\n",
    "]\n",
    "\n",
    "xor4 = [\n",
    "    ([0,0,0,0], [1]),\n",
    "    ([0,0,0,1], [0]),\n",
    "    ([0,0,1,0], [0]),\n",
    "    ([0,0,1,1], [1]),\n",
    "    ([0,1,0,0], [0]),\n",
    "    ([0,1,0,1], [1]),\n",
    "    ([0,1,1,0], [1]),\n",
    "    ([0,1,1,1], [0]),\n",
    "    ([1,0,0,0], [0]),\n",
    "    ([1,0,0,1], [1]),\n",
    "    ([1,0,1,0], [0]),\n",
    "    ([1,0,1,1], [1]),\n",
    "    ([1,1,0,0], [1]),\n",
    "    ([1,1,0,1], [0]),\n",
    "    ([1,1,1,0], [0]),\n",
    "    ([1,1,1,1], [1]),\n",
    "]"
   ]
  },
  {
   "cell_type": "code",
   "execution_count": 2,
   "metadata": {},
   "outputs": [
    {
     "name": "stdout",
     "output_type": "stream",
     "text": [
      "0 0 [[0.50537134]]\n",
      "0 1 [[0.53546076]]\n",
      "1 0 [[0.60168746]]\n",
      "1 1 [[0.62819787]]\n"
     ]
    }
   ],
   "source": [
    "from src.mlp import MLP\n",
    "rede = MLP([2,2,1])\n",
    "\n",
    "for a in range(2):\n",
    "    for b in range(2):\n",
    "        y, _ = rede.feedforward([a,b])\n",
    "        print(a, b, y)"
   ]
  },
  {
   "cell_type": "code",
   "execution_count": 3,
   "metadata": {},
   "outputs": [
    {
     "name": "stdout",
     "output_type": "stream",
     "text": [
      "Epoca: 0000 | MSE: 1.113\n",
      "Epoca: 0100 | MSE: 1.080\n",
      "Epoca: 0200 | MSE: 1.056\n",
      "Epoca: 0300 | MSE: 0.965\n",
      "Epoca: 0400 | MSE: 0.795\n",
      "Epoca: 0500 | MSE: 0.455\n",
      "Epoca: 0600 | MSE: 0.185\n",
      "Epoca: 0700 | MSE: 0.100\n",
      "Epoca: 0800 | MSE: 0.066\n",
      "Epoca: 0900 | MSE: 0.048\n",
      "Epoca: 1000 | MSE: 0.037\n",
      "Epoca: 1100 | MSE: 0.030\n",
      "Epoca: 1200 | MSE: 0.025\n",
      "Epoca: 1300 | MSE: 0.022\n",
      "Epoca: 1400 | MSE: 0.019\n",
      "Epoca: 1500 | MSE: 0.017\n",
      "Epoca: 1600 | MSE: 0.015\n",
      "Epoca: 1700 | MSE: 0.014\n",
      "Epoca: 1800 | MSE: 0.013\n",
      "Epoca: 1900 | MSE: 0.012\n"
     ]
    }
   ],
   "source": [
    "rede.treino(amostras=xor2, lim_epocas=2000, taxa=0.7)"
   ]
  },
  {
   "cell_type": "code",
   "execution_count": 4,
   "metadata": {},
   "outputs": [
    {
     "name": "stdout",
     "output_type": "stream",
     "text": [
      "0 0 [[0.94978956]]\n",
      "0 1 [[0.05604545]]\n",
      "1 0 [[0.05538165]]\n",
      "1 1 [[0.95519406]]\n"
     ]
    }
   ],
   "source": [
    "for a in range(2):\n",
    "    for b in range(2):\n",
    "        y, _ = rede.feedforward([a,b])\n",
    "        print(a, b, y)"
   ]
  },
  {
   "cell_type": "markdown",
   "metadata": {},
   "source": []
  }
 ],
 "metadata": {
  "interpreter": {
   "hash": "c32e92a0d8c75da1fb8fc5ee6212cadd32588b5e5f5af321237b5fa01cf9c517"
  },
  "kernelspec": {
   "display_name": "Python 3.9.7 ('formacao-cientista')",
   "language": "python",
   "name": "python3"
  },
  "language_info": {
   "codemirror_mode": {
    "name": "ipython",
    "version": 3
   },
   "file_extension": ".py",
   "mimetype": "text/x-python",
   "name": "python",
   "nbconvert_exporter": "python",
   "pygments_lexer": "ipython3",
   "version": "3.9.7"
  },
  "orig_nbformat": 4
 },
 "nbformat": 4,
 "nbformat_minor": 2
}
