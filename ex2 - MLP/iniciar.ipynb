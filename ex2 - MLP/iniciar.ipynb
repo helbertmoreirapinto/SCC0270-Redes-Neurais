{
 "cells": [
  {
   "cell_type": "markdown",
   "metadata": {},
   "source": [
    "SCC0270 - Redes Neurais e Aprendizado Profundo"
   ]
  },
  {
   "cell_type": "markdown",
   "metadata": {},
   "source": [
    "Alunos:\n",
    "- 10716504 - Helbert Moreira Pinto\n",
    "- 10377708 - João Marcos Della Torre Divino"
   ]
  },
  {
   "cell_type": "markdown",
   "metadata": {},
   "source": [
    "Exercicio 2 - Implemente uma rede MLP usando apenas pacotes básicos do Python, como a biblioteca Numpy."
   ]
  },
  {
   "cell_type": "markdown",
   "metadata": {},
   "source": [
    "No exercÍcio anterior implementamos o perceptron que consegue encontrar um plano separador entre dois conjuntos, desde que os elementos dos conjuntos sejam linearmente separáveis.  \n",
    "Vemos abaixo duas associações de conjuntos. Na primeira temos conjuntos linearmente separáveis (existe um plano separador entre eles) e na segunda não temos um plano que separe ambos conjuntos.   \n",
    "<img src='imgs/separaveis.png' alt='Linearmente separável' width='1000'/>"
   ]
  },
  {
   "cell_type": "markdown",
   "metadata": {},
   "source": [
    "Como a maioria dos problemas reais exigem soluções não linearmente separaveis, temos uma limitação considerável no uso do perceptron.  \n",
    "Como exemplo podemos citar o problema do XOR (Exclusive OR) que possui a seguinte tabela verdade:\n",
    "\n",
    "| A | B | S |\n",
    "|:-:|:-:|:-:|\n",
    "| 0 | 0 | 1 |\n",
    "| 0 | 1 | 0 |\n",
    "| 1 | 0 | 0 |\n",
    "| 1 | 1 | 1 |\n",
    "\n",
    "Para uma melhor comparação, vemos graficamente lado a lado como são os casos do AND, do OR e do XOR:  \n",
    "<img src='imgs/xor2.png' alt='Linearmente separável' width='500'/>\n"
   ]
  },
  {
   "cell_type": "markdown",
   "metadata": {},
   "source": [
    "Para a solução deste problema, foi proposto a construção de uma rede de perceptrons, onde a saída dos perceptrons da camada atual alimenta os perceptrons de camadas posteriores, conhecido por MLP (MultiLayer Perceptron). A cada camada de processamento da rede é adicionado um novo plano separador dos conjuntos, resolvendo deste modo problemas que não são linearmente separaveis.  \n",
    "<img src='imgs/mlp.png' alt='Linearmente separável' width='500'/>"
   ]
  },
  {
   "cell_type": "markdown",
   "metadata": {},
   "source": [
    "Diferentemente do perceptron simples, onde o erro da saída estava diretamente relacionado aos pesos do próprio perceptron, no MLP o erro da saída é indiretamente influenciado por uma pequena parcela de todos os neurônios que compõe a rede. Deste modo o ajuste dos pesos deve ser feito da camada de saída (onde o erro pode ser mensurado) para as camadas anteriores. O nome deste processo de retropropagação do erro é conhecida por backpropagation."
   ]
  },
  {
   "cell_type": "markdown",
   "metadata": {},
   "source": [
    "O algoritmo de backpropagation é baseado na ideia de ajustes dos pesos na direção de minimização da função de custo (que neste caso é a saida esperada - saida observada). Para encontrar a direção de minimização da função de custo usa-se o gradiente descendente, como pode ser visto na figura abaixo.  \n",
    "<img src='imgs/gradiente.png' alt='Linearmente separável' width='500'/>"
   ]
  },
  {
   "cell_type": "markdown",
   "metadata": {},
   "source": [
    "Em nossa implementação utilizamos a regra delta para calcularmos os gradientes dos pesos:\n",
    "\n",
    "$\\delta_0 = erro \\cdot \\frac {d} {dx} fa(A_n)$\n",
    "\n",
    "$\\delta_i = \\delta_{i-1} \\cdot W^{T}_{i} \\cdot \\frac {d} {dx} fa(A_{i}), i = 1, 2, 3, ... , n-1$\n",
    "\n",
    "onde:\n",
    "\n",
    "$fa$ = função de ativação (sigmóide)\n",
    "\n",
    "$W_i$ = pesos da camada i\n",
    "\n",
    "$A_i$ = vetor de saída da camada i "
   ]
  },
  {
   "cell_type": "markdown",
   "metadata": {},
   "source": [
    "Após os calculos dos deltas, os gradientes podem ser calculados como:\n",
    "\n",
    "$\\nabla W_i = \\delta_{n-i} \\cdot A_i, i = 0,1,2,...,n$"
   ]
  },
  {
   "cell_type": "markdown",
   "metadata": {},
   "source": [
    "Para treino da nossa rede, utilizamos o algoritmo conforme imagem abaixo.\n",
    "\n",
    "<img src='imgs/treino-mlp.png' alt='Linearmente separável' width='500'/>"
   ]
  },
  {
   "cell_type": "markdown",
   "metadata": {},
   "source": []
  },
  {
   "cell_type": "code",
   "execution_count": 1,
   "metadata": {},
   "outputs": [],
   "source": [
    "xor = [\n",
    "    ([0,0], [1]), \n",
    "    ([0,1], [0]), \n",
    "    ([1,0], [0]), \n",
    "    ([1,1], [1]), \n",
    "]"
   ]
  },
  {
   "cell_type": "code",
   "execution_count": 2,
   "metadata": {},
   "outputs": [],
   "source": [
    "from src.mlp import MLP\n",
    "rede = MLP([2,2,1])"
   ]
  },
  {
   "cell_type": "code",
   "execution_count": 3,
   "metadata": {},
   "outputs": [
    {
     "name": "stdout",
     "output_type": "stream",
     "text": [
      "[0, 0] [[0.51445764]]\n",
      "[0, 1] [[0.5270065]]\n",
      "[1, 0] [[0.48943658]]\n",
      "[1, 1] [[0.50315985]]\n"
     ]
    }
   ],
   "source": [
    "for x, _ in xor:\n",
    "    y, _ = rede.feedforward(x)\n",
    "    print(x, y)"
   ]
  },
  {
   "cell_type": "code",
   "execution_count": 4,
   "metadata": {},
   "outputs": [
    {
     "name": "stdout",
     "output_type": "stream",
     "text": [
      "Epoca: 00000 | MSE: 0.26591543\n",
      "Epoca: 00500 | MSE: 0.23371341\n",
      "Epoca: 01000 | MSE: 0.06516581\n",
      "Epoca: 01500 | MSE: 0.01219228\n",
      "Epoca: 02000 | MSE: 0.00605306\n",
      "Epoca: 02500 | MSE: 0.00392664\n",
      "Epoca: 03000 | MSE: 0.00287625\n",
      "Epoca: 03500 | MSE: 0.00225718\n",
      "Epoca: 04000 | MSE: 0.00185153\n",
      "Epoca: 04500 | MSE: 0.00156623\n",
      "Epoca: 05000 | MSE: 0.00135518\n",
      "Epoca: 05500 | MSE: 0.00119301\n",
      "Epoca: 06000 | MSE: 0.00106467\n",
      "Epoca: 06500 | MSE: 0.00096068\n",
      "Epoca: 07000 | MSE: 0.00087477\n",
      "Epoca: 07500 | MSE: 0.00080265\n",
      "Epoca: 08000 | MSE: 0.00074128\n",
      "Epoca: 08500 | MSE: 0.00068845\n",
      "Epoca: 09000 | MSE: 0.00064249\n",
      "Epoca: 09500 | MSE: 0.00060218\n"
     ]
    }
   ],
   "source": [
    "arr_erro = rede.treino(amostras=xor, taxa=0.5, lim_epocas=10000)"
   ]
  },
  {
   "cell_type": "code",
   "execution_count": 5,
   "metadata": {},
   "outputs": [
    {
     "data": {
      "image/png": "[encoded data removed]",
      "text/plain": [
       "<Figure size 720x720 with 1 Axes>"
      ]
     },
     "metadata": {
      "needs_background": "light"
     },
     "output_type": "display_data"
    }
   ],
   "source": [
    "from matplotlib import pyplot as plt\n",
    "plt.figure(figsize=(10,10))\n",
    "plt.plot(arr_erro)\n",
    "plt.show()"
   ]
  },
  {
   "cell_type": "code",
   "execution_count": 6,
   "metadata": {},
   "outputs": [
    {
     "name": "stdout",
     "output_type": "stream",
     "text": [
      "[0, 0] [[0.97465799]]\n",
      "[0, 1] [[0.02183365]]\n",
      "[1, 0] [[0.02185161]]\n",
      "[1, 1] [[0.97415103]]\n"
     ]
    }
   ],
   "source": [
    "for x, _ in xor:\n",
    "    y, _ = rede.feedforward(x)\n",
    "    print(x, y)"
   ]
  }
 ],
 "metadata": {
  "language_info": {
   "name": "python"
  },
  "orig_nbformat": 4
 },
 "nbformat": 4,
 "nbformat_minor": 2
}
