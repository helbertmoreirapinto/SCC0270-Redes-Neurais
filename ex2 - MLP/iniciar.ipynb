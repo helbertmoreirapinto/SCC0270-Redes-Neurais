{
 "cells": [
  {
   "cell_type": "markdown",
   "metadata": {},
   "source": [
    "# SCC0270 - Redes Neurais e Aprendizado Profundo\n",
    "---"
   ]
  },
  {
   "cell_type": "markdown",
   "metadata": {},
   "source": [
    "Alunos:\n",
    "- 10716504 - Helbert Moreira Pinto\n",
    "- 10377708 - João Marcos Della Torre Divino"
   ]
  },
  {
   "cell_type": "markdown",
   "metadata": {},
   "source": [
    "---\n",
    "\n",
    "Exercício 2 - Implemente uma rede MLP usando apenas pacotes básicos do Python, como a biblioteca Numpy.\n",
    "\n",
    "---"
   ]
  },
  {
   "cell_type": "markdown",
   "metadata": {},
   "source": [
    "### Introdução"
   ]
  },
  {
   "cell_type": "markdown",
   "metadata": {},
   "source": [
    "No exercÍcio anterior, foi implementado o _perceptron_, o qual consegue encontrar um plano separador entre dois conjuntos, desde que os elementos deles sejam linearmente separáveis. Por exemplo, vê-se abaixo duas associações de conjuntos: na primeira tem-se conjuntos linearmente separáveis (existe um hiperplano separador entre eles); e na segunda não se tem um hiperplano que os separe.\n",
    "\n",
    "<img src='imgs/separaveis.png' alt='Linearmente separável' width='1000'/>"
   ]
  },
  {
   "cell_type": "markdown",
   "metadata": {},
   "source": [
    "Como a maioria dos problemas reais exigem soluções não linearmente separáveis, há uma limitação considerável no uso do _perceptron_.  \n",
    "Como exemplo pode-se citar o problema do XOR (Exclusive OR), que possui a seguinte tabela verdade:\n",
    "\n",
    "| A | B | S |\n",
    "|:-:|:-:|:-:|\n",
    "| 0 | 0 | 1 |\n",
    "| 0 | 1 | 0 |\n",
    "| 1 | 0 | 0 |\n",
    "| 1 | 1 | 1 |\n",
    "\n",
    "Para uma melhor comparação, a figura abaixo mostra graficamente lado a lado como são os casos do AND, do OR e do XOR:\n",
    "\n",
    "<img src='imgs/xor2.png' alt='Linearmente separável' width='500'/>\n",
    "\n",
    "Ora, nota-se que no caso do XOR não há uma solução linear que consiga separar as duas classes."
   ]
  },
  {
   "cell_type": "markdown",
   "metadata": {},
   "source": [
    "Para solucionar isso, foi proposta a construção de uma rede de _perceptrons_, na qual a saída dos neurônios da camada atual alimenta os de camadas posteriores. Tal configuração é conhecida por MLP (MultiLayer Perceptron).\n",
    "\n",
    "A cada camada de processamento da rede é adicionado um novo plano separador dos conjuntos, resolvendo assim problemas que não são linearmente separáveis.\n",
    "\n",
    "<img src='imgs/mlp.png' alt='Linearmente separável' width='500'/>"
   ]
  },
  {
   "cell_type": "markdown",
   "metadata": {},
   "source": [
    "---\n",
    "### Implementação da rede"
   ]
  },
  {
   "cell_type": "markdown",
   "metadata": {},
   "source": [
    "A implementação da etapa de propagação para a saída é dado pelo seguinte trecho do código:  \n",
    "```python\n",
    "def feedforward(u, fa=sigmoide):\n",
    "    # array A armazena os valores das saidas das camadas\n",
    "    A = [np.array(u)]\n",
    "    for peso, bias in zip(pesos, bias):\n",
    "        u = fa(np.dot(u, peso) + bias)\n",
    "        A.append(u)\n",
    "    return u, A\n",
    "```\n",
    "Nota-se que a função de ativação foi definida de maneira a ser parametrizável, para ser possível utilizar outra que não a sigmoide, como por exemplo a função de tangente hiperbólica, caso houvesse valores negativos no conjunto de dados."
   ]
  },
  {
   "cell_type": "markdown",
   "metadata": {},
   "source": [
    "Contudo, diferentemente do _perceptron_ simples, no qual o erro da saída estava diretamente relacionado aos pesos do próprio neurônio, numa MLP o erro da saída é indiretamente influenciado por uma pequena parcela de todos os neurônios que compõe a rede. Deste modo, o ajuste dos pesos deve ser feito da camada de saída (onde o erro pode ser mensurado) para as camadas anteriores. O nome deste processo de retropropagação do erro é conhecida por _backpropagation_."
   ]
  },
  {
   "cell_type": "markdown",
   "metadata": {},
   "source": [
    "O algoritmo de _backpropagation_ é baseado na ideia de ajustes dos pesos na direção de minimização da função de custo, que neste caso é a (saida esperada - saida observada).  \n",
    "```python\n",
    "def diferenca_vetorial(a, b):\n",
    "    return a - b\n",
    "```\n",
    "\n",
    "Para encontrar a direção de minimização da função de custo, usa-se o gradiente descendente, como pode ser visto na figura abaixo.\n",
    "\n",
    "<img src='imgs/gradiente.png' alt='Linearmente separável' width='500'/>"
   ]
  },
  {
   "cell_type": "markdown",
   "metadata": {},
   "source": [
    "Para a implementação, foi utilizada a regra delta para calcular os gradientes dos pesos:\n",
    "\n",
    "$\\delta_0 = erro \\cdot \\frac {d} {dx} fa(A_n)$\n",
    "\n",
    "$\\delta_i = \\delta_{i-1} \\cdot W^{T}_{i} \\cdot \\frac {d} {dx} fa(A_{i}), i = 1, 2, 3, ... , n-1$\n",
    "\n",
    "em que:\n",
    "\n",
    "$fa$ = função de ativação (sigmoide)\n",
    "\n",
    "$W_i$ = pesos da camada i\n",
    "\n",
    "$A_i$ = vetor de saída da camada i "
   ]
  },
  {
   "cell_type": "markdown",
   "metadata": {},
   "source": [
    "Após os calculos dos deltas, os gradientes podem ser calculados por:\n",
    "\n",
    "$\\nabla W_i = \\delta_{n-i} \\cdot A_i, i = 0,1,2,...,n$"
   ]
  },
  {
   "cell_type": "markdown",
   "metadata": {},
   "source": [
    "A implementação de retropropagação dos erros ficou então do seguinte modo:\n",
    "```python\n",
    "def backpropagation(amostra, taxa, fa=sigmoide, dfa=dsigmoide, funcao_custo=diferenca_vetorial):\n",
    "    x, y = amostra\n",
    "    saida, a = feedforward(x, fa)\n",
    "    erro = funcao_custo(y, saida)\n",
    "\n",
    "    # ajustar pesos e bias\n",
    "    # calcular os deltas da camada de saida para a camada de entrada\n",
    "    delta = [erro * dfa(saida)]\n",
    "    for i in range(len(a)-1, 0, -1):\n",
    "        delta_i = delta[len(delta)-1].dot(pesos[i-1].T) * dfa(a[i-1])\n",
    "        delta.append(delta_i)\n",
    "    # revertendo os deltas\n",
    "    delta = delta[::-1][1:]\n",
    "\n",
    "    # calculando os gradientes e aplicando alterações nos pesos\n",
    "    # w = w + (taxa * (entrada . delta))\n",
    "    for i, w in enumerate(pesos):\n",
    "    # bug da unidimensionalidade -> a[i].T\n",
    "        if len(a[i].shape) == 1:\n",
    "            a[i] = a[i].reshape(1, len(a[i]))\n",
    "        w += (taxa * np.dot(a[i].T, delta[i]))\n",
    "\n",
    "    # aplicando alterações nos bias\n",
    "    # b = b + (taxa * (1 . delta))\n",
    "    for i, b in enumerate(bias):\n",
    "        b += (taxa * delta[i])\n",
    "    return\n",
    "```"
   ]
  },
  {
   "cell_type": "markdown",
   "metadata": {},
   "source": [
    "Para treinar a rede, foi utilizado o algoritmo mostrado na imagem abaixo, na seguinte ordem:\n",
    "1. apresentar uma amostra\n",
    "2. calcular o erro observado\n",
    "3. calcular os deltas e gradientes\n",
    "4. ajustar os pesos e os bias \n",
    "5. apresentar nova amostra e voltar ao passo 1\n",
    "\n",
    "<img src='imgs/treino-mlp.png' alt='Linearmente separável' width='500'/>"
   ]
  },
  {
   "cell_type": "markdown",
   "metadata": {},
   "source": [
    "A implementação da etapa de treino é dada pelo seguinte código:\n",
    "```python\n",
    "def treino(amostras, lim_erro=1e-3, taxa=0.5, funcao_custo=diferenca_vetorial):\n",
    "    epoca = 0\n",
    "    erro_epoca = []\n",
    "\n",
    "    while True:\n",
    "        erro_epoca = []\n",
    "\n",
    "        for amostra in amostras:\n",
    "            x, y = amostra\n",
    "            saida, _ = feedforward(x)\n",
    "            erro_epoca.append(funcao_custo(y, saida))\n",
    "            backpropagation(amostra, taxa=taxa)\n",
    "        \n",
    "        # erro quadratico medio\n",
    "        mse = np.sum(np.square(erro_epoca)) / len(erro_epoca)\n",
    "        erro_epoca.append(mse)\n",
    "        \n",
    "        # a cada 5k epocas exibe o erro quadratico medio da epoca\n",
    "        if epoca % 5000 == 0:\n",
    "            print('Epoca: {:06d} | MSE: {:.8f}'.format(epoca, mse))\n",
    "        \n",
    "        # condição de parada: erro quadratico medio menor que um limite pre-estabelecido\n",
    "        if mse < lim_erro:\n",
    "            break\n",
    "        \n",
    "        epoca += 1\n",
    "    \n",
    "    return erro_epoca\n",
    "```  "
   ]
  },
  {
   "cell_type": "markdown",
   "metadata": {},
   "source": [
    "---\n",
    "### Apresentando o problema do XOR para a rede"
   ]
  },
  {
   "cell_type": "markdown",
   "metadata": {},
   "source": [
    "Inicialmente, foram utilizados os dados do XOR como entrada, para ver se a rede estava conseguindo ajustar os pesos adequadamente."
   ]
  },
  {
   "cell_type": "code",
   "execution_count": 1,
   "metadata": {},
   "outputs": [],
   "source": [
    "from src.mlp import MLP\n",
    "rede_xor = MLP([2,4,1], seed=123)\n",
    "\n",
    "xor = [\n",
    "    ([0,0], [1]), \n",
    "    ([0,1], [0]), \n",
    "    ([1,0], [0]), \n",
    "    ([1,1], [1]), \n",
    "]"
   ]
  },
  {
   "cell_type": "markdown",
   "metadata": {},
   "source": [
    "Antes de treinar a rede, nota-se que as saídas possuem valores aleatórios."
   ]
  },
  {
   "cell_type": "code",
   "execution_count": 2,
   "metadata": {},
   "outputs": [
    {
     "name": "stdout",
     "output_type": "stream",
     "text": [
      "[0, 0] => [[0.93322454]]\n",
      "[0, 1] => [[0.9175108]]\n",
      "[1, 0] => [[0.89390771]]\n",
      "[1, 1] => [[0.87701227]]\n"
     ]
    }
   ],
   "source": [
    "for x, _ in xor:\n",
    "    y, _ = rede_xor.feedforward(x)\n",
    "    print(f'{x} => {y}')"
   ]
  },
  {
   "cell_type": "markdown",
   "metadata": {},
   "source": [
    "Na etapa de treinamento, com o decorrer das iterações, pode-se notar a minimização da função de custo."
   ]
  },
  {
   "cell_type": "code",
   "execution_count": 3,
   "metadata": {},
   "outputs": [
    {
     "name": "stdout",
     "output_type": "stream",
     "text": [
      "Epoca: 00000 | MSE: 0.82727145\n",
      "Epoca: 01105 | MSE: 0.00998878\n"
     ]
    },
    {
     "data": {
      "image/png": "[encoded data removed]",
      "text/plain": [
       "<Figure size 720x720 with 1 Axes>"
      ]
     },
     "metadata": {
      "needs_background": "light"
     },
     "output_type": "display_data"
    }
   ],
   "source": [
    "erro_epoca = rede_xor.treino(amostras=xor, taxa=0.5, lim_erro=1e-2)\n",
    "\n",
    "from matplotlib import pyplot as plt\n",
    "plt.figure(figsize=(10,10))\n",
    "plt.plot(erro_epoca)\n",
    "plt.show()"
   ]
  },
  {
   "cell_type": "markdown",
   "metadata": {},
   "source": [
    "Por fim, tem-se que os pesos foram ajustados corretamente ao ver as saídas para cada entrada do XOR."
   ]
  },
  {
   "cell_type": "code",
   "execution_count": 4,
   "metadata": {},
   "outputs": [
    {
     "name": "stdout",
     "output_type": "stream",
     "text": [
      "[0, 0] => [[0.94666088]]\n",
      "[0, 1] => [[0.06856388]]\n",
      "[1, 0] => [[0.06512135]]\n",
      "[1, 1] => [[0.91038486]]\n"
     ]
    }
   ],
   "source": [
    "for x, _ in xor:\n",
    "    y, _ = rede_xor.feedforward(x)\n",
    "    print(f'{x} => {y}')"
   ]
  },
  {
   "cell_type": "markdown",
   "metadata": {},
   "source": [
    "---\n",
    "### Problema do auto-associador"
   ]
  },
  {
   "cell_type": "markdown",
   "metadata": {},
   "source": [
    "Como proposta do exercício, solicitava-se também a utilização de uma MLP para construir um auto-associador, no qual a saída da rede é igual a entrada. Através de tal configuração, busca-se fazer o mapeamento das caracteristicas da entrada, utilizando uma camada intermediária com poucos neurônios (aqui, $(\\log_2N)$ neurônios, sendo $N$ o tamanho da entrada).\n",
    "\n",
    "<img src='imgs/encoder.png' alt='Linearmente separável' width='500'/>\n",
    "\n",
    "Desta forma, foram avaliados dois casos de entrada:\n",
    "- $Id_8$: Identidade de ordem 8 ou Id(8x8)\n",
    "- $Id_{16}$: Identidade de ordem 16 ou Id(16x16)"
   ]
  },
  {
   "cell_type": "markdown",
   "metadata": {},
   "source": [
    "#### Identidade 8"
   ]
  },
  {
   "cell_type": "markdown",
   "metadata": {},
   "source": [
    "Inicialmente, foram apresentadas à rede as amostras de entrada. Como pode ser visto, uma vez que nenhum treinamento foi feito, a saída difere totalmente da entrada."
   ]
  },
  {
   "cell_type": "code",
   "execution_count": 5,
   "metadata": {},
   "outputs": [
    {
     "name": "stdout",
     "output_type": "stream",
     "text": [
      "[1. 0. 0. 0. 0. 0. 0. 0.] => [[0.03 0.58 0.6  0.34 0.75 0.76 0.81 0.64]]\n",
      "[0. 1. 0. 0. 0. 0. 0. 0.] => [[0.03 0.48 0.52 0.42 0.77 0.76 0.91 0.72]]\n",
      "[0. 0. 1. 0. 0. 0. 0. 0.] => [[0.04 0.54 0.49 0.47 0.77 0.79 0.89 0.8 ]]\n",
      "[0. 0. 0. 1. 0. 0. 0. 0.] => [[0.03 0.62 0.59 0.32 0.74 0.73 0.8  0.58]]\n",
      "[0. 0. 0. 0. 1. 0. 0. 0.] => [[0.02 0.58 0.68 0.21 0.73 0.66 0.76 0.31]]\n",
      "[0. 0. 0. 0. 0. 1. 0. 0.] => [[0.02 0.36 0.6  0.35 0.77 0.73 0.92 0.57]]\n",
      "[0. 0. 0. 0. 0. 0. 1. 0.] => [[0.02 0.48 0.67 0.24 0.75 0.68 0.83 0.37]]\n",
      "[0. 0. 0. 0. 0. 0. 0. 1.] => [[0.02 0.45 0.64 0.24 0.75 0.65 0.88 0.34]]\n"
     ]
    }
   ],
   "source": [
    "import numpy as np\n",
    "from src.mlp import MLP\n",
    "rede_id8 = MLP([8,3,8], seed=123)\n",
    "\n",
    "Id8 = [(z,z) for z in np.identity(8)]\n",
    "\n",
    "for x, _ in Id8:\n",
    "    y, _ = rede_id8.feedforward(x)\n",
    "    print(f'{x} => {np.round(y,2)}')"
   ]
  },
  {
   "cell_type": "markdown",
   "metadata": {},
   "source": [
    "Treinamento da rede:"
   ]
  },
  {
   "cell_type": "code",
   "execution_count": 6,
   "metadata": {},
   "outputs": [
    {
     "name": "stdout",
     "output_type": "stream",
     "text": [
      "Epoca: 00000 | MSE: 9.78916096\n",
      "Epoca: 05000 | MSE: 0.02637493\n",
      "Epoca: 10000 | MSE: 0.01098091\n",
      "Epoca: 10828 | MSE: 0.00999956\n"
     ]
    },
    {
     "data": {
      "image/png": "[encoded data removed]",
      "text/plain": [
       "<Figure size 720x720 with 1 Axes>"
      ]
     },
     "metadata": {
      "needs_background": "light"
     },
     "output_type": "display_data"
    }
   ],
   "source": [
    "erro_epoca = rede_id8.treino(amostras=Id8, taxa=0.5, lim_erro=1e-2)\n",
    "\n",
    "from matplotlib import pyplot as plt\n",
    "plt.figure(figsize=(10,10))\n",
    "plt.plot(erro_epoca)\n",
    "plt.show()"
   ]
  },
  {
   "cell_type": "markdown",
   "metadata": {},
   "source": [
    "Teste da rede:"
   ]
  },
  {
   "cell_type": "code",
   "execution_count": 7,
   "metadata": {},
   "outputs": [
    {
     "name": "stdout",
     "output_type": "stream",
     "text": [
      "[1. 0. 0. 0. 0. 0. 0. 0.] => [[0.97 0.   0.03 0.02 0.   0.   0.   0.  ]]\n",
      "[0. 1. 0. 0. 0. 0. 0. 0.] => [[0.   0.97 0.   0.03 0.02 0.   0.   0.01]]\n",
      "[0. 0. 1. 0. 0. 0. 0. 0.] => [[0.02 0.   0.96 0.   0.   0.02 0.   0.  ]]\n",
      "[0. 0. 0. 1. 0. 0. 0. 0.] => [[0.03 0.02 0.   0.95 0.   0.03 0.   0.01]]\n",
      "[0. 0. 0. 0. 1. 0. 0. 0.] => [[0.   0.02 0.01 0.   0.97 0.   0.02 0.  ]]\n",
      "[0. 0. 0. 0. 0. 1. 0. 0.] => [[0.   0.   0.02 0.02 0.   0.97 0.   0.01]]\n",
      "[0. 0. 0. 0. 0. 0. 1. 0.] => [[0.   0.   0.02 0.   0.01 0.   0.97 0.02]]\n",
      "[0. 0. 0. 0. 0. 0. 0. 1.] => [[0.   0.01 0.   0.02 0.   0.02 0.02 0.98]]\n"
     ]
    }
   ],
   "source": [
    "for x, _ in Id8:\n",
    "    y, _ = rede_id8.feedforward(x)\n",
    "    print(f'{x} => {np.round(y,2)}')"
   ]
  },
  {
   "cell_type": "markdown",
   "metadata": {},
   "source": [
    "#### Identidade 16"
   ]
  },
  {
   "cell_type": "markdown",
   "metadata": {},
   "source": [
    "Analogamente ao caso anterior, num primeiro momento, a saída da rede é distinta da entrada já que a rede não foi treinada."
   ]
  },
  {
   "cell_type": "code",
   "execution_count": 8,
   "metadata": {},
   "outputs": [
    {
     "name": "stdout",
     "output_type": "stream",
     "text": [
      "[1. 0. 0. 0. 0. 0. 0. 0. 0. 0. 0. 0. 0. 0. 0. 0.] => [[0.52 0.44 0.88 0.65 0.26 0.63 0.83 0.34 0.7  0.45 0.78 0.35 0.68 0.48\n",
      "  0.47 0.89]]\n",
      "[0. 1. 0. 0. 0. 0. 0. 0. 0. 0. 0. 0. 0. 0. 0. 0.] => [[0.67 0.56 0.9  0.7  0.17 0.72 0.83 0.13 0.78 0.41 0.76 0.49 0.69 0.62\n",
      "  0.49 0.84]]\n",
      "[0. 0. 1. 0. 0. 0. 0. 0. 0. 0. 0. 0. 0. 0. 0. 0.] => [[0.59 0.69 0.8  0.57 0.14 0.8  0.91 0.2  0.62 0.29 0.44 0.7  0.67 0.4\n",
      "  0.45 0.67]]\n",
      "[0. 0. 0. 1. 0. 0. 0. 0. 0. 0. 0. 0. 0. 0. 0. 0.] => [[0.61 0.67 0.81 0.57 0.14 0.78 0.9  0.23 0.65 0.29 0.43 0.67 0.65 0.4\n",
      "  0.43 0.67]]\n",
      "[0. 0. 0. 0. 1. 0. 0. 0. 0. 0. 0. 0. 0. 0. 0. 0.] => [[0.7  0.5  0.94 0.66 0.11 0.5  0.91 0.18 0.87 0.28 0.59 0.39 0.75 0.44\n",
      "  0.36 0.84]]\n",
      "[0. 0. 0. 0. 0. 1. 0. 0. 0. 0. 0. 0. 0. 0. 0. 0.] => [[0.67 0.63 0.93 0.69 0.09 0.68 0.92 0.07 0.81 0.29 0.63 0.59 0.78 0.55\n",
      "  0.48 0.81]]\n",
      "[0. 0. 0. 0. 0. 0. 1. 0. 0. 0. 0. 0. 0. 0. 0. 0.] => [[0.36 0.45 0.8  0.57 0.31 0.66 0.88 0.55 0.5  0.45 0.72 0.39 0.69 0.32\n",
      "  0.49 0.87]]\n",
      "[0. 0. 0. 0. 0. 0. 0. 1. 0. 0. 0. 0. 0. 0. 0. 0.] => [[0.51 0.59 0.77 0.57 0.23 0.78 0.86 0.37 0.56 0.38 0.57 0.57 0.62 0.4\n",
      "  0.46 0.75]]\n",
      "[0. 0. 0. 0. 0. 0. 0. 0. 1. 0. 0. 0. 0. 0. 0. 0.] => [[0.3  0.45 0.82 0.58 0.3  0.64 0.9  0.5  0.45 0.46 0.76 0.39 0.74 0.31\n",
      "  0.54 0.89]]\n",
      "[0. 0. 0. 0. 0. 0. 0. 0. 0. 1. 0. 0. 0. 0. 0. 0.] => [[0.6  0.61 0.88 0.66 0.14 0.73 0.89 0.14 0.71 0.35 0.65 0.57 0.72 0.51\n",
      "  0.49 0.81]]\n",
      "[0. 0. 0. 0. 0. 0. 0. 0. 0. 0. 1. 0. 0. 0. 0. 0.] => [[0.37 0.62 0.8  0.58 0.19 0.78 0.93 0.26 0.44 0.37 0.64 0.64 0.75 0.36\n",
      "  0.57 0.8 ]]\n",
      "[0. 0. 0. 0. 0. 0. 0. 0. 0. 0. 0. 1. 0. 0. 0. 0.] => [[0.39 0.43 0.88 0.56 0.19 0.46 0.94 0.51 0.65 0.33 0.6  0.34 0.77 0.22\n",
      "  0.42 0.88]]\n",
      "[0. 0. 0. 0. 0. 0. 0. 0. 0. 0. 0. 0. 1. 0. 0. 0.] => [[0.78 0.58 0.91 0.69 0.13 0.7  0.83 0.12 0.86 0.34 0.63 0.5  0.64 0.62\n",
      "  0.39 0.78]]\n",
      "[0. 0. 0. 0. 0. 0. 0. 0. 0. 0. 0. 0. 0. 1. 0. 0.] => [[0.53 0.69 0.85 0.58 0.1  0.74 0.95 0.16 0.62 0.25 0.42 0.7  0.76 0.34\n",
      "  0.48 0.71]]\n",
      "[0. 0. 0. 0. 0. 0. 0. 0. 0. 0. 0. 0. 0. 0. 1. 0.] => [[0.57 0.46 0.94 0.66 0.12 0.43 0.94 0.21 0.83 0.3  0.65 0.35 0.81 0.37\n",
      "  0.42 0.89]]\n",
      "[0. 0. 0. 0. 0. 0. 0. 0. 0. 0. 0. 0. 0. 0. 0. 1.] => [[0.53 0.47 0.87 0.64 0.24 0.64 0.85 0.34 0.69 0.43 0.75 0.38 0.68 0.46\n",
      "  0.46 0.87]]\n"
     ]
    }
   ],
   "source": [
    "import numpy as np\n",
    "from src.mlp import MLP\n",
    "rede_id16 = MLP([16,4,16], seed=123)\n",
    "\n",
    "Id16 = [(z,z) for z in np.identity(16)]\n",
    "\n",
    "for x, _ in Id16:\n",
    "    y, _ = rede_id16.feedforward(x)\n",
    "    print(f'{x} => {np.round(y,2)}')"
   ]
  },
  {
   "cell_type": "markdown",
   "metadata": {},
   "source": [
    "Treinamento da rede:"
   ]
  },
  {
   "cell_type": "code",
   "execution_count": 9,
   "metadata": {},
   "outputs": [
    {
     "name": "stdout",
     "output_type": "stream",
     "text": [
      "Epoca: 00000 | MSE: 32.74778137\n",
      "Epoca: 05000 | MSE: 0.06813614\n",
      "Epoca: 10000 | MSE: 0.02899282\n",
      "Epoca: 15000 | MSE: 0.01831458\n",
      "Epoca: 20000 | MSE: 0.01335742\n",
      "Epoca: 25000 | MSE: 0.01050163\n",
      "Epoca: 26171 | MSE: 0.00999983\n"
     ]
    },
    {
     "data": {
      "image/png": "[encoded data removed]",
      "text/plain": [
       "<Figure size 720x720 with 1 Axes>"
      ]
     },
     "metadata": {
      "needs_background": "light"
     },
     "output_type": "display_data"
    }
   ],
   "source": [
    "erro_epoca = rede_id16.treino(amostras=Id16, taxa=0.5, lim_erro=1e-2)\n",
    "\n",
    "from matplotlib import pyplot as plt\n",
    "plt.figure(figsize=(10,10))\n",
    "plt.plot(erro_epoca)\n",
    "plt.show()"
   ]
  },
  {
   "cell_type": "markdown",
   "metadata": {},
   "source": [
    "Teste da rede:"
   ]
  },
  {
   "cell_type": "code",
   "execution_count": 10,
   "metadata": {},
   "outputs": [
    {
     "name": "stdout",
     "output_type": "stream",
     "text": [
      "[1. 0. 0. 0. 0. 0. 0. 0. 0. 0. 0. 0. 0. 0. 0. 0.] => [[0.97 0.01 0.   0.01 0.02 0.   0.   0.   0.01 0.   0.   0.   0.   0.\n",
      "  0.   0.01]]\n",
      "[0. 1. 0. 0. 0. 0. 0. 0. 0. 0. 0. 0. 0. 0. 0. 0.] => [[0.02 0.97 0.   0.01 0.   0.   0.   0.   0.   0.   0.   0.   0.01 0.01\n",
      "  0.   0.01]]\n",
      "[0. 0. 1. 0. 0. 0. 0. 0. 0. 0. 0. 0. 0. 0. 0. 0.] => [[0.   0.   0.97 0.   0.   0.02 0.   0.   0.   0.   0.01 0.01 0.01 0.02\n",
      "  0.   0.  ]]\n",
      "[0. 0. 0. 1. 0. 0. 0. 0. 0. 0. 0. 0. 0. 0. 0. 0.] => [[0.02 0.01 0.   0.97 0.   0.01 0.   0.01 0.   0.   0.   0.   0.   0.\n",
      "  0.   0.  ]]\n",
      "[0. 0. 0. 0. 1. 0. 0. 0. 0. 0. 0. 0. 0. 0. 0. 0.] => [[0.01 0.   0.   0.   0.98 0.   0.   0.   0.   0.   0.   0.   0.   0.01\n",
      "  0.   0.  ]]\n",
      "[0. 0. 0. 0. 0. 1. 0. 0. 0. 0. 0. 0. 0. 0. 0. 0.] => [[0.   0.   0.02 0.02 0.   0.97 0.   0.   0.   0.01 0.   0.01 0.   0.\n",
      "  0.   0.  ]]\n",
      "[0. 0. 0. 0. 0. 0. 1. 0. 0. 0. 0. 0. 0. 0. 0. 0.] => [[0.   0.   0.   0.   0.   0.   0.98 0.01 0.01 0.   0.01 0.01 0.   0.\n",
      "  0.01 0.  ]]\n",
      "[0. 0. 0. 0. 0. 0. 0. 1. 0. 0. 0. 0. 0. 0. 0. 0.] => [[0.   0.   0.   0.01 0.01 0.   0.01 0.98 0.01 0.   0.   0.01 0.   0.\n",
      "  0.   0.  ]]\n",
      "[0. 0. 0. 0. 0. 0. 0. 0. 1. 0. 0. 0. 0. 0. 0. 0.] => [[0.01 0.   0.   0.   0.   0.   0.01 0.01 0.98 0.01 0.   0.   0.   0.\n",
      "  0.01 0.01]]\n",
      "[0. 0. 0. 0. 0. 0. 0. 0. 0. 1. 0. 0. 0. 0. 0. 0.] => [[0.   0.01 0.   0.   0.   0.01 0.   0.01 0.   0.98 0.01 0.   0.   0.\n",
      "  0.   0.01]]\n",
      "[0. 0. 0. 0. 0. 0. 0. 0. 0. 0. 1. 0. 0. 0. 0. 0.] => [[0.   0.   0.02 0.   0.   0.   0.01 0.   0.   0.01 0.97 0.   0.01 0.\n",
      "  0.   0.  ]]\n",
      "[0. 0. 0. 0. 0. 0. 0. 0. 0. 0. 0. 1. 0. 0. 0. 0.] => [[0.   0.   0.01 0.   0.01 0.   0.01 0.   0.   0.   0.   0.98 0.   0.01\n",
      "  0.   0.  ]]\n",
      "[0. 0. 0. 0. 0. 0. 0. 0. 0. 0. 0. 0. 1. 0. 0. 0.] => [[0.   0.01 0.01 0.   0.   0.   0.   0.   0.   0.   0.01 0.   0.98 0.01\n",
      "  0.01 0.01]]\n",
      "[0. 0. 0. 0. 0. 0. 0. 0. 0. 0. 0. 0. 0. 1. 0. 0.] => [[0.   0.01 0.01 0.   0.01 0.   0.   0.   0.   0.   0.   0.01 0.01 0.98\n",
      "  0.   0.  ]]\n",
      "[0. 0. 0. 0. 0. 0. 0. 0. 0. 0. 0. 0. 0. 0. 1. 0.] => [[0.   0.   0.   0.   0.01 0.   0.   0.   0.01 0.   0.   0.   0.01 0.\n",
      "  0.98 0.01]]\n",
      "[0. 0. 0. 0. 0. 0. 0. 0. 0. 0. 0. 0. 0. 0. 0. 1.] => [[0.02 0.01 0.   0.   0.   0.   0.   0.   0.01 0.01 0.   0.   0.02 0.\n",
      "  0.01 0.97]]\n"
     ]
    }
   ],
   "source": [
    "for x, _ in Id16:\n",
    "    y, _ = rede_id16.feedforward(x)\n",
    "    print(f'{x} => {np.round(y,2)}')"
   ]
  }
 ],
 "metadata": {
  "interpreter": {
   "hash": "c32e92a0d8c75da1fb8fc5ee6212cadd32588b5e5f5af321237b5fa01cf9c517"
  },
  "kernelspec": {
   "display_name": "Python 3 (ipykernel)",
   "language": "python",
   "name": "python3"
  },
  "language_info": {
   "codemirror_mode": {
    "name": "ipython",
    "version": 3
   },
   "file_extension": ".py",
   "mimetype": "text/x-python",
   "name": "python",
   "nbconvert_exporter": "python",
   "pygments_lexer": "ipython3",
   "version": "3.9.7"
  }
 },
 "nbformat": 4,
 "nbformat_minor": 2
}
