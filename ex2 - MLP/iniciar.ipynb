{
 "cells": [
  {
   "cell_type": "markdown",
   "metadata": {},
   "source": [
    "SCC0270 - Redes Neurais e Aprendizado Profundo"
   ]
  },
  {
   "cell_type": "markdown",
   "metadata": {},
   "source": [
    "Alunos:\n",
    "- 10716504 - Helbert Moreira Pinto\n",
    "- 10377708 - João Marcos Della Torre Divino"
   ]
  },
  {
   "cell_type": "markdown",
   "metadata": {},
   "source": [
    "Exercicio 2 - Implemente uma rede MLP usando apenas pacotes básicos do Python, como a biblioteca Numpy."
   ]
  },
  {
   "cell_type": "markdown",
   "metadata": {},
   "source": [
    "No exercÍcio anterior implementamos o perceptron que consegue encontrar um plano separador entre dois conjuntos, desde que os elementos dos conjuntos sejam linearmente separáveis.  \n",
    "Vemos abaixo duas associações de conjuntos. Na primeira temos conjuntos linearmente separáveis (existe um plano separador entre eles) e na segunda não temos um plano que separe ambos conjuntos.   \n",
    "<img src='imgs/separaveis.png' alt='Linearmente separável' width='1000'/>"
   ]
  },
  {
   "cell_type": "markdown",
   "metadata": {},
   "source": [
    "Como a maioria dos problemas reais exigem soluções não linearmente separaveis, temos uma limitação considerável no uso do perceptron.  \n",
    "Como exemplo podemos citar o problema do XOR (Exclusive OR) que possui a seguinte tabela verdade:\n",
    "\n",
    "| A | B | S |\n",
    "|:-:|:-:|:-:|\n",
    "| 0 | 0 | 1 |\n",
    "| 0 | 1 | 0 |\n",
    "| 1 | 0 | 0 |\n",
    "| 1 | 1 | 1 |\n",
    "\n",
    "Para uma melhor comparação, vemos graficamente lado a lado como são os casos do AND, do OR e do XOR:  \n",
    "<img src='imgs/xor2.png' alt='Linearmente separável' width='500'/>\n"
   ]
  },
  {
   "cell_type": "markdown",
   "metadata": {},
   "source": [
    "Para a solução deste problema, foi proposto a construção de uma rede de perceptrons, onde a saída dos perceptrons da camada atual alimenta os perceptrons de camadas posteriores, conhecido por MLP (MultiLayer Perceptron). A cada camada de processamento da rede é adicionado um novo plano separador dos conjuntos, resolvendo deste modo problemas que não são linearmente separaveis.  \n",
    "<img src='imgs/mlp.png' alt='Linearmente separável' width='500'/>"
   ]
  },
  {
   "cell_type": "markdown",
   "metadata": {},
   "source": [
    "A implementação da etapa de propagação para a saida é dado pelo seguinte trecho do código:  \n",
    "```python\n",
    "def feedforward(u, fa=sigmoide):\n",
    "    # array A armazena os valores das saidas das camadas\n",
    "    A = [np.array(u)]\n",
    "    for peso, bias in zip(pesos, bias):\n",
    "        u = fa(np.dot(u, peso) + bias)\n",
    "        A.append(u)\n",
    "    return u, A\n",
    "```\n",
    "Nota-se que deixamos a função de ativação parametrizavel, pois poderiamos usar a função de tangente hiperbolica (caso tivesse valores negativos em nosso conjunto de dados)."
   ]
  },
  {
   "cell_type": "markdown",
   "metadata": {},
   "source": [
    "Diferentemente do perceptron simples, onde o erro da saída estava diretamente relacionado aos pesos do próprio perceptron, no MLP o erro da saída é indiretamente influenciado por uma pequena parcela de todos os neurônios que compõe a rede. Deste modo o ajuste dos pesos deve ser feito da camada de saída (onde o erro pode ser mensurado) para as camadas anteriores. O nome deste processo de retropropagação do erro é conhecida por backpropagation."
   ]
  },
  {
   "cell_type": "markdown",
   "metadata": {},
   "source": [
    "O algoritmo de backpropagation é baseado na ideia de ajustes dos pesos na direção de minimização da função de custo (que neste caso é a saida esperada - saida observada).  \n",
    "```python\n",
    "def diferenca_vetorial(a, b):\n",
    "    return a - b\n",
    "```\n",
    "\n",
    "Para encontrar a direção de minimização da função de custo usa-se o gradiente descendente, como pode ser visto na figura abaixo.  \n",
    "<img src='imgs/gradiente.png' alt='Linearmente separável' width='500'/>"
   ]
  },
  {
   "cell_type": "markdown",
   "metadata": {},
   "source": [
    "Em nossa implementação utilizamos a regra delta para calcularmos os gradientes dos pesos:\n",
    "\n",
    "$\\delta_0 = erro \\cdot \\frac {d} {dx} fa(A_n)$\n",
    "\n",
    "$\\delta_i = \\delta_{i-1} \\cdot W^{T}_{i} \\cdot \\frac {d} {dx} fa(A_{i}), i = 1, 2, 3, ... , n-1$\n",
    "\n",
    "onde:\n",
    "\n",
    "$fa$ = função de ativação (sigmóide)\n",
    "\n",
    "$W_i$ = pesos da camada i\n",
    "\n",
    "$A_i$ = vetor de saída da camada i "
   ]
  },
  {
   "cell_type": "markdown",
   "metadata": {},
   "source": [
    "Após os calculos dos deltas, os gradientes podem ser calculados como:\n",
    "\n",
    "$\\nabla W_i = \\delta_{n-i} \\cdot A_i, i = 0,1,2,...,n$"
   ]
  },
  {
   "cell_type": "markdown",
   "metadata": {},
   "source": [
    "A implementação de retropropagação dos erros ficou do seguinte modo:\n",
    "```python\n",
    "def backpropagation(amostra, taxa, fa=sigmoide, dfa=dsigmoide, funcao_custo=diferenca_vetorial):\n",
    "    x, y = amostra\n",
    "    saida, a = feedforward(x, fa)\n",
    "    erro = funcao_custo(y, saida)\n",
    "\n",
    "    # ajustar pesos e bias\n",
    "    # calcular os deltas da camada de saida para a camada de entrada\n",
    "    delta = [erro * dfa(saida)]\n",
    "    for i in range(len(a)-1, 0, -1):\n",
    "        delta_i = delta[len(delta)-1].dot(pesos[i-1].T) * dfa(a[i-1])\n",
    "        delta.append(delta_i)\n",
    "    # revertendo os deltas\n",
    "    delta = delta[::-1][1:]\n",
    "\n",
    "    # calculando os gradientes e aplicando alterações nos pesos\n",
    "    # w = w + (taxa * (entrada . delta))\n",
    "    for i, w in enumerate(pesos):\n",
    "    # bug da unidimensionalidade -> a[i].T\n",
    "        if len(a[i].shape) == 1:\n",
    "            a[i] = a[i].reshape(1, len(a[i]))\n",
    "        w += (taxa * np.dot(a[i].T, delta[i]))\n",
    "\n",
    "    # aplicando alterações nos bias\n",
    "    # b = b + (taxa * (1 . delta))\n",
    "    for i, b in enumerate(bias):\n",
    "        b += (taxa * delta[i])\n",
    "    return\n",
    "```"
   ]
  },
  {
   "cell_type": "markdown",
   "metadata": {},
   "source": [
    "Para treino da nossa rede, utilizamos o algoritmo conforme imagem abaixo, na seguinte ordem:  \n",
    "- apresentar uma amostra\n",
    "- calcular o erro observado\n",
    "- calcular os deltas e gradientes\n",
    "- ajustar os pesos e os bias \n",
    "- apresentar nova amostra e voltar ao passo 1\n",
    "\n",
    "<img src='imgs/treino-mlp.png' alt='Linearmente separável' width='500'/>"
   ]
  },
  {
   "cell_type": "markdown",
   "metadata": {},
   "source": [
    "A implementação da etapa de treino é dado pelo seguinte código:\n",
    "```python\n",
    "def treino(amostras, lim_erro=1e-3, taxa=0.5, funcao_custo=diferenca_vetorial):\n",
    "    epoca = 0\n",
    "    erro_epoca = []\n",
    "\n",
    "    while True:\n",
    "        erro_epoca = []\n",
    "\n",
    "        for amostra in amostras:\n",
    "            x, y = amostra\n",
    "            saida, _ = feedforward(x)\n",
    "            erro_epoca.append(funcao_custo(y, saida))\n",
    "            backpropagation(amostra, taxa=taxa)\n",
    "        \n",
    "        # erro quadratico medio\n",
    "        mse = np.sum(np.square(erro_epoca)) / len(erro_epoca)\n",
    "        erro_epoca.append(mse)\n",
    "        \n",
    "        # a cada 5k epocas exibe o erro quadratico medio da epoca\n",
    "        if epoca % 5000 == 0:\n",
    "            print('Epoca: {:06d} | MSE: {:.8f}'.format(epoca, mse))\n",
    "        \n",
    "        # condição de parada: erro quadratico medio menor que um limite pre-estabelecido\n",
    "        if mse < lim_erro:\n",
    "            break\n",
    "        \n",
    "        epoca += 1\n",
    "    \n",
    "    return erro_epoca\n",
    "```  "
   ]
  },
  {
   "cell_type": "markdown",
   "metadata": {},
   "source": [
    "Inicialmente, utilizamos os dados do XOR como entrada, para ver se a rede estava conseguindo ajustar os pesos adequadamente."
   ]
  },
  {
   "cell_type": "code",
   "execution_count": 1,
   "metadata": {},
   "outputs": [],
   "source": [
    "from src.mlp import MLP\n",
    "rede_xor = MLP([2,4,1])\n",
    "\n",
    "xor = [\n",
    "    ([0,0], [1]), \n",
    "    ([0,1], [0]), \n",
    "    ([1,0], [0]), \n",
    "    ([1,1], [1]), \n",
    "]"
   ]
  },
  {
   "cell_type": "markdown",
   "metadata": {},
   "source": [
    "Antes de treinarmos nossa rede, vemos que as saidas possuem valores aleatorios."
   ]
  },
  {
   "cell_type": "code",
   "execution_count": 2,
   "metadata": {},
   "outputs": [
    {
     "name": "stdout",
     "output_type": "stream",
     "text": [
      "[0, 0] => [[0.43301737]]\n",
      "[0, 1] => [[0.49526901]]\n",
      "[1, 0] => [[0.46546778]]\n",
      "[1, 1] => [[0.51971508]]\n"
     ]
    }
   ],
   "source": [
    "for x, _ in xor:\n",
    "    y, _ = rede_xor.feedforward(x)\n",
    "    print(f'{x} => {y}')"
   ]
  },
  {
   "cell_type": "markdown",
   "metadata": {},
   "source": [
    "Na etapa de treinamento, com o decorrer das iterações, podemos a minimização da função de custo."
   ]
  },
  {
   "cell_type": "code",
   "execution_count": 3,
   "metadata": {},
   "outputs": [
    {
     "name": "stdout",
     "output_type": "stream",
     "text": [
      "Epoca: 00000 | MSE: 0.25622553\n",
      "Epoca: 05000 | MSE: 0.00562585\n",
      "Epoca: 10000 | MSE: 0.00173718\n",
      "Epoca: 14874 | MSE: 0.00099994\n"
     ]
    },
    {
     "data": {
      "image/png": "[encoded data removed]",
      "text/plain": [
       "<Figure size 720x720 with 1 Axes>"
      ]
     },
     "metadata": {
      "needs_background": "light"
     },
     "output_type": "display_data"
    }
   ],
   "source": [
    "erro_epoca = rede_xor.treino(amostras=xor, taxa=0.1, lim_erro=1e-3)\n",
    "\n",
    "from matplotlib import pyplot as plt\n",
    "plt.figure(figsize=(10,10))\n",
    "plt.plot(erro_epoca)\n",
    "plt.show()"
   ]
  },
  {
   "cell_type": "markdown",
   "metadata": {},
   "source": [
    "Por fim podemos ver se os pesos foram ajustados corretamente ao ver as saidas dada as entradas do XOR."
   ]
  },
  {
   "cell_type": "code",
   "execution_count": 4,
   "metadata": {},
   "outputs": [
    {
     "name": "stdout",
     "output_type": "stream",
     "text": [
      "[0, 0] => [[0.98053896]]\n",
      "[0, 1] => [[0.02729667]]\n",
      "[1, 0] => [[0.03206453]]\n",
      "[1, 1] => [[0.95702746]]\n"
     ]
    }
   ],
   "source": [
    "for x, _ in xor:\n",
    "    y, _ = rede_xor.feedforward(x)\n",
    "    print(f'{x} => {y}')"
   ]
  },
  {
   "cell_type": "markdown",
   "metadata": {},
   "source": [
    "Como proposta do exercicio tinhamos que construir o mapeamento de caracteristicas, utilizando como padrão de entrada e saída:\n",
    "- $Id_8$: Identidade de ordem 8 ou Id(8x8)\n",
    "- $Id_{16}$: Identidade de ordem 16 ou Id(16x16)"
   ]
  },
  {
   "cell_type": "markdown",
   "metadata": {},
   "source": [
    "Identidade 8"
   ]
  },
  {
   "cell_type": "code",
   "execution_count": 5,
   "metadata": {},
   "outputs": [
    {
     "name": "stdout",
     "output_type": "stream",
     "text": [
      "[1. 0. 0. 0. 0. 0. 0. 0.] => [[0.65 0.19 0.78 0.25 0.31 0.62 0.09 0.43]]\n",
      "[0. 1. 0. 0. 0. 0. 0. 0.] => [[0.75 0.15 0.78 0.38 0.28 0.82 0.04 0.42]]\n",
      "[0. 0. 1. 0. 0. 0. 0. 0.] => [[0.74 0.23 0.75 0.27 0.43 0.8  0.1  0.51]]\n",
      "[0. 0. 0. 1. 0. 0. 0. 0.] => [[0.69 0.21 0.81 0.27 0.44 0.65 0.04 0.39]]\n",
      "[0. 0. 0. 0. 1. 0. 0. 0.] => [[0.75 0.19 0.76 0.32 0.33 0.82 0.08 0.48]]\n",
      "[0. 0. 0. 0. 0. 1. 0. 0.] => [[0.73 0.25 0.78 0.25 0.52 0.75 0.07 0.47]]\n",
      "[0. 0. 0. 0. 0. 0. 1. 0.] => [[0.71 0.14 0.77 0.35 0.2  0.77 0.07 0.43]]\n",
      "[0. 0. 0. 0. 0. 0. 0. 1.] => [[0.65 0.13 0.77 0.3  0.16 0.68 0.11 0.43]]\n"
     ]
    }
   ],
   "source": [
    "import numpy as np\n",
    "from src.mlp import MLP\n",
    "rede_id8 = MLP([8,3,8])\n",
    "\n",
    "Id8 = [(z,z) for z in np.identity(8)]\n",
    "\n",
    "for x, _ in Id8:\n",
    "    y, _ = rede_id8.feedforward(x)\n",
    "    print(f'{x} => {np.round(y,2)}')"
   ]
  },
  {
   "cell_type": "code",
   "execution_count": 6,
   "metadata": {},
   "outputs": [
    {
     "name": "stdout",
     "output_type": "stream",
     "text": [
      "Epoca: 00000 | MSE: 1.98064155\n",
      "Epoca: 05000 | MSE: 0.00586877\n",
      "Epoca: 10000 | MSE: 0.00263138\n",
      "Epoca: 15000 | MSE: 0.00167374\n",
      "Epoca: 20000 | MSE: 0.00122047\n",
      "Epoca: 24021 | MSE: 0.00099996\n"
     ]
    },
    {
     "data": {
      "image/png": "[encoded data removed]",
      "text/plain": [
       "<Figure size 720x720 with 1 Axes>"
      ]
     },
     "metadata": {
      "needs_background": "light"
     },
     "output_type": "display_data"
    }
   ],
   "source": [
    "erro_epoca = rede_id8.treino(amostras=Id8, taxa=0.5, lim_erro=1e-3)\n",
    "\n",
    "from matplotlib import pyplot as plt\n",
    "plt.figure(figsize=(10,10))\n",
    "plt.plot(erro_epoca)\n",
    "plt.show()"
   ]
  },
  {
   "cell_type": "code",
   "execution_count": 7,
   "metadata": {},
   "outputs": [
    {
     "name": "stdout",
     "output_type": "stream",
     "text": [
      "[1. 0. 0. 0. 0. 0. 0. 0.] => [[0.97 0.   0.02 0.01 0.02 0.   0.   0.01]]\n",
      "[0. 1. 0. 0. 0. 0. 0. 0.] => [[0.   0.98 0.   0.01 0.   0.   0.   0.  ]]\n",
      "[0. 0. 1. 0. 0. 0. 0. 0.] => [[0.02 0.   0.98 0.   0.   0.02 0.   0.  ]]\n",
      "[0. 0. 0. 1. 0. 0. 0. 0.] => [[0.02 0.02 0.   0.98 0.   0.   0.   0.01]]\n",
      "[0. 0. 0. 0. 1. 0. 0. 0.] => [[0.01 0.01 0.   0.   0.98 0.01 0.   0.  ]]\n",
      "[0. 0. 0. 0. 0. 1. 0. 0.] => [[0.   0.02 0.01 0.   0.01 0.98 0.01 0.  ]]\n",
      "[0. 0. 0. 0. 0. 0. 1. 0.] => [[0.   0.01 0.   0.   0.   0.01 0.98 0.01]]\n",
      "[0. 0. 0. 0. 0. 0. 0. 1.] => [[0.01 0.   0.01 0.01 0.   0.   0.02 0.98]]\n"
     ]
    }
   ],
   "source": [
    "for x, _ in Id8:\n",
    "    y, _ = rede_id8.feedforward(x)\n",
    "    print(f'{x} => {np.round(y,2)}')"
   ]
  },
  {
   "cell_type": "markdown",
   "metadata": {},
   "source": [
    "Identidade 16"
   ]
  },
  {
   "cell_type": "code",
   "execution_count": 8,
   "metadata": {},
   "outputs": [
    {
     "name": "stdout",
     "output_type": "stream",
     "text": [
      "[1. 0. 0. 0. 0. 0. 0. 0. 0. 0. 0. 0. 0. 0. 0. 0.] => [[0.69 0.83 0.48 0.48 0.3  0.13 0.19 0.49 0.   0.66 0.68 0.14 0.03 0.38\n",
      "  0.11 0.13]]\n",
      "[0. 1. 0. 0. 0. 0. 0. 0. 0. 0. 0. 0. 0. 0. 0. 0.] => [[0.65 0.74 0.51 0.43 0.44 0.11 0.19 0.43 0.   0.55 0.66 0.19 0.03 0.43\n",
      "  0.15 0.1 ]]\n",
      "[0. 0. 1. 0. 0. 0. 0. 0. 0. 0. 0. 0. 0. 0. 0. 0.] => [[0.74 0.63 0.38 0.46 0.49 0.19 0.22 0.38 0.01 0.65 0.67 0.22 0.04 0.4\n",
      "  0.19 0.1 ]]\n",
      "[0. 0. 0. 1. 0. 0. 0. 0. 0. 0. 0. 0. 0. 0. 0. 0.] => [[0.81 0.71 0.34 0.52 0.41 0.26 0.22 0.41 0.01 0.75 0.68 0.17 0.04 0.33\n",
      "  0.14 0.11]]\n",
      "[0. 0. 0. 0. 1. 0. 0. 0. 0. 0. 0. 0. 0. 0. 0. 0.] => [[0.7  0.62 0.49 0.42 0.63 0.13 0.18 0.39 0.01 0.51 0.6  0.23 0.02 0.43\n",
      "  0.15 0.07]]\n",
      "[0. 0. 0. 0. 0. 1. 0. 0. 0. 0. 0. 0. 0. 0. 0. 0.] => [[0.72 0.71 0.47 0.44 0.46 0.14 0.18 0.48 0.01 0.6  0.6  0.17 0.02 0.41\n",
      "  0.13 0.11]]\n",
      "[0. 0. 0. 0. 0. 0. 1. 0. 0. 0. 0. 0. 0. 0. 0. 0.] => [[0.71 0.66 0.44 0.46 0.54 0.16 0.2  0.37 0.01 0.59 0.67 0.23 0.03 0.41\n",
      "  0.17 0.08]]\n",
      "[0. 0. 0. 0. 0. 0. 0. 1. 0. 0. 0. 0. 0. 0. 0. 0.] => [[0.6  0.75 0.52 0.38 0.28 0.09 0.22 0.51 0.01 0.58 0.66 0.16 0.03 0.48\n",
      "  0.2  0.18]]\n",
      "[0. 0. 0. 0. 0. 0. 0. 0. 1. 0. 0. 0. 0. 0. 0. 0.] => [[0.66 0.72 0.52 0.38 0.36 0.1  0.19 0.54 0.01 0.57 0.59 0.14 0.01 0.46\n",
      "  0.15 0.15]]\n",
      "[0. 0. 0. 0. 0. 0. 0. 0. 0. 1. 0. 0. 0. 0. 0. 0.] => [[0.79 0.71 0.38 0.5  0.47 0.22 0.2  0.41 0.01 0.7  0.66 0.19 0.03 0.35\n",
      "  0.13 0.1 ]]\n",
      "[0. 0. 0. 0. 0. 0. 0. 0. 0. 0. 1. 0. 0. 0. 0. 0.] => [[0.64 0.67 0.55 0.36 0.43 0.09 0.19 0.53 0.01 0.5  0.56 0.16 0.01 0.49\n",
      "  0.16 0.13]]\n",
      "[0. 0. 0. 0. 0. 0. 0. 0. 0. 0. 0. 1. 0. 0. 0. 0.] => [[0.75 0.6  0.37 0.4  0.33 0.18 0.24 0.49 0.02 0.7  0.63 0.16 0.02 0.44\n",
      "  0.23 0.18]]\n",
      "[0. 0. 0. 0. 0. 0. 0. 0. 0. 0. 0. 0. 1. 0. 0. 0.] => [[0.64 0.66 0.48 0.39 0.42 0.11 0.22 0.43 0.01 0.56 0.66 0.21 0.03 0.47\n",
      "  0.21 0.13]]\n",
      "[0. 0. 0. 0. 0. 0. 0. 0. 0. 0. 0. 0. 0. 1. 0. 0.] => [[0.66 0.63 0.4  0.43 0.37 0.15 0.26 0.35 0.02 0.64 0.74 0.24 0.08 0.45\n",
      "  0.29 0.14]]\n",
      "[0. 0. 0. 0. 0. 0. 0. 0. 0. 0. 0. 0. 0. 0. 1. 0.] => [[0.7  0.79 0.47 0.47 0.36 0.14 0.2  0.47 0.   0.65 0.66 0.16 0.03 0.39\n",
      "  0.12 0.12]]\n",
      "[0. 0. 0. 0. 0. 0. 0. 0. 0. 0. 0. 0. 0. 0. 0. 1.] => [[0.68 0.68 0.5  0.44 0.59 0.13 0.18 0.38 0.   0.52 0.63 0.23 0.02 0.42\n",
      "  0.14 0.07]]\n"
     ]
    }
   ],
   "source": [
    "import numpy as np\n",
    "from src.mlp import MLP\n",
    "rede_id16 = MLP([16,4,16])\n",
    "\n",
    "Id16 = [(z,z) for z in np.identity(16)]\n",
    "\n",
    "for x, _ in Id16:\n",
    "    y, _ = rede_id16.feedforward(x)\n",
    "    print(f'{x} => {np.round(y,2)}')"
   ]
  },
  {
   "cell_type": "code",
   "execution_count": 9,
   "metadata": {},
   "outputs": [
    {
     "name": "stdout",
     "output_type": "stream",
     "text": [
      "Epoca: 00000 | MSE: 1.91985496\n",
      "Epoca: 05000 | MSE: 0.00770401\n",
      "Epoca: 10000 | MSE: 0.00341375\n",
      "Epoca: 15000 | MSE: 0.00217922\n",
      "Epoca: 20000 | MSE: 0.00159666\n",
      "Epoca: 25000 | MSE: 0.00125835\n",
      "Epoca: 30000 | MSE: 0.00103761\n",
      "Epoca: 31070 | MSE: 0.00100000\n"
     ]
    },
    {
     "data": {
      "image/png": "[encoded data removed]",
      "text/plain": [
       "<Figure size 720x720 with 1 Axes>"
      ]
     },
     "metadata": {
      "needs_background": "light"
     },
     "output_type": "display_data"
    }
   ],
   "source": [
    "erro_epoca = rede_id16.treino(amostras=Id16, taxa=0.5, lim_erro=1e-3)\n",
    "\n",
    "from matplotlib import pyplot as plt\n",
    "plt.figure(figsize=(10,10))\n",
    "plt.plot(erro_epoca)\n",
    "plt.show()"
   ]
  },
  {
   "cell_type": "code",
   "execution_count": 10,
   "metadata": {},
   "outputs": [
    {
     "name": "stdout",
     "output_type": "stream",
     "text": [
      "[1. 0. 0. 0. 0. 0. 0. 0. 0. 0. 0. 0. 0. 0. 0. 0.] => [[0.97 0.   0.   0.01 0.   0.   0.   0.01 0.   0.   0.   0.   0.   0.\n",
      "  0.01 0.  ]]\n",
      "[0. 1. 0. 0. 0. 0. 0. 0. 0. 0. 0. 0. 0. 0. 0. 0.] => [[0.01 0.99 0.   0.   0.01 0.   0.   0.   0.   0.   0.   0.   0.01 0.\n",
      "  0.01 0.01]]\n",
      "[0. 0. 1. 0. 0. 0. 0. 0. 0. 0. 0. 0. 0. 0. 0. 0.] => [[0.   0.   0.98 0.   0.01 0.01 0.   0.   0.   0.   0.   0.01 0.   0.\n",
      "  0.   0.01]]\n",
      "[0. 0. 0. 1. 0. 0. 0. 0. 0. 0. 0. 0. 0. 0. 0. 0.] => [[0.02 0.   0.   0.98 0.   0.01 0.01 0.   0.   0.01 0.   0.   0.   0.\n",
      "  0.   0.  ]]\n",
      "[0. 0. 0. 0. 1. 0. 0. 0. 0. 0. 0. 0. 0. 0. 0. 0.] => [[0.   0.01 0.01 0.01 0.98 0.   0.   0.   0.   0.   0.   0.   0.01 0.\n",
      "  0.   0.  ]]\n",
      "[0. 0. 0. 0. 0. 1. 0. 0. 0. 0. 0. 0. 0. 0. 0. 0.] => [[0.   0.   0.   0.   0.   0.98 0.   0.   0.   0.   0.   0.   0.   0.\n",
      "  0.   0.  ]]\n",
      "[0. 0. 0. 0. 0. 0. 1. 0. 0. 0. 0. 0. 0. 0. 0. 0.] => [[0.   0.   0.   0.01 0.01 0.   0.98 0.   0.   0.01 0.   0.01 0.01 0.\n",
      "  0.   0.  ]]\n",
      "[0. 0. 0. 0. 0. 0. 0. 1. 0. 0. 0. 0. 0. 0. 0. 0.] => [[0.01 0.   0.   0.   0.   0.01 0.   0.98 0.01 0.01 0.   0.   0.   0.\n",
      "  0.   0.01]]\n",
      "[0. 0. 0. 0. 0. 0. 0. 0. 1. 0. 0. 0. 0. 0. 0. 0.] => [[0.   0.   0.   0.   0.   0.01 0.   0.01 0.98 0.   0.01 0.01 0.   0.01\n",
      "  0.   0.  ]]\n",
      "[0. 0. 0. 0. 0. 0. 0. 0. 0. 1. 0. 0. 0. 0. 0. 0.] => [[0.   0.   0.   0.01 0.   0.01 0.01 0.01 0.01 0.98 0.01 0.   0.   0.\n",
      "  0.01 0.  ]]\n",
      "[0. 0. 0. 0. 0. 0. 0. 0. 0. 0. 1. 0. 0. 0. 0. 0.] => [[0.   0.   0.   0.   0.   0.   0.   0.01 0.01 0.01 0.97 0.   0.01 0.01\n",
      "  0.01 0.  ]]\n",
      "[0. 0. 0. 0. 0. 0. 0. 0. 0. 0. 0. 1. 0. 0. 0. 0.] => [[0.   0.   0.01 0.   0.   0.   0.01 0.   0.01 0.   0.   0.98 0.   0.01\n",
      "  0.   0.  ]]\n",
      "[0. 0. 0. 0. 0. 0. 0. 0. 0. 0. 0. 0. 1. 0. 0. 0.] => [[0.   0.01 0.   0.   0.01 0.   0.01 0.   0.   0.   0.01 0.   0.98 0.01\n",
      "  0.   0.  ]]\n",
      "[0. 0. 0. 0. 0. 0. 0. 0. 0. 0. 0. 0. 0. 1. 0. 0.] => [[0.   0.   0.   0.   0.   0.   0.   0.   0.01 0.   0.01 0.01 0.   0.98\n",
      "  0.   0.01]]\n",
      "[0. 0. 0. 0. 0. 0. 0. 0. 0. 0. 0. 0. 0. 0. 1. 0.] => [[0.02 0.01 0.   0.01 0.   0.   0.   0.01 0.   0.01 0.01 0.   0.   0.\n",
      "  0.98 0.  ]]\n",
      "[0. 0. 0. 0. 0. 0. 0. 0. 0. 0. 0. 0. 0. 0. 0. 1.] => [[0.02 0.01 0.01 0.   0.   0.   0.   0.01 0.   0.   0.   0.   0.   0.01\n",
      "  0.   0.98]]\n"
     ]
    }
   ],
   "source": [
    "for x, _ in Id16:\n",
    "    y, _ = rede_id16.feedforward(x)\n",
    "    print(f'{x} => {np.round(y,2)}')"
   ]
  }
 ],
 "metadata": {
  "interpreter": {
   "hash": "c32e92a0d8c75da1fb8fc5ee6212cadd32588b5e5f5af321237b5fa01cf9c517"
  },
  "kernelspec": {
   "display_name": "Python 3 (ipykernel)",
   "language": "python",
   "name": "python3"
  },
  "language_info": {
   "codemirror_mode": {
    "name": "ipython",
    "version": 3
   },
   "file_extension": ".py",
   "mimetype": "text/x-python",
   "name": "python",
   "nbconvert_exporter": "python",
   "pygments_lexer": "ipython3",
   "version": "3.9.7"
  }
 },
 "nbformat": 4,
 "nbformat_minor": 2
}
