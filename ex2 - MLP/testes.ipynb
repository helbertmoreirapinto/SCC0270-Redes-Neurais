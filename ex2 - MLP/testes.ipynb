{
 "cells": [
  {
   "cell_type": "code",
   "execution_count": 1,
   "metadata": {},
   "outputs": [],
   "source": [
    "import numpy as np\n",
    "from matplotlib import pyplot as plt\n",
    "\n",
    "from src.mlp import MLP\n",
    "rede = MLP([4,24,6])"
   ]
  },
  {
   "cell_type": "code",
   "execution_count": 2,
   "metadata": {},
   "outputs": [],
   "source": [
    "# saidas => or nor and nand xor xnor\n",
    "gates = [\n",
    "    ([0,0,0,0], [0,1,0,1,1,0]),\n",
    "    ([0,0,0,1], [1,0,0,1,0,1]),\n",
    "    ([0,0,1,0], [1,0,0,1,0,1]),\n",
    "    ([0,0,1,1], [1,0,0,1,1,0]),\n",
    "    ([0,1,0,0], [1,0,0,1,0,1]),\n",
    "    ([0,1,0,1], [1,0,0,1,1,0]),\n",
    "    ([0,1,1,0], [1,0,0,1,1,0]),\n",
    "    ([0,1,1,1], [1,0,0,1,0,1]),\n",
    "    ([1,0,0,0], [1,0,0,1,0,1]),\n",
    "    ([1,0,0,1], [1,0,0,1,1,0]),\n",
    "    ([1,0,1,0], [1,0,0,1,1,0]),\n",
    "    ([1,0,1,1], [1,0,0,1,0,1]),\n",
    "    ([1,1,0,0], [1,0,0,1,1,0]),\n",
    "    ([1,1,0,1], [1,0,0,1,0,1]),\n",
    "    ([1,1,1,0], [1,0,0,1,0,1]),\n",
    "    ([1,1,1,1], [1,0,1,0,1,0]),\n",
    "]"
   ]
  },
  {
   "cell_type": "code",
   "execution_count": 3,
   "metadata": {},
   "outputs": [
    {
     "name": "stdout",
     "output_type": "stream",
     "text": [
      "[0, 0, 0, 0] = [0.204 0.004 0.038 0.024 0.039 0.   ]\n",
      "[0, 0, 0, 1] = [0.206 0.022 0.043 0.082 0.003 0.   ]\n",
      "[0, 0, 1, 0] = [0.521 0.001 0.099 0.011 0.024 0.   ]\n",
      "[0, 0, 1, 1] = [0.46  0.008 0.086 0.04  0.002 0.   ]\n",
      "[0, 1, 0, 0] = [0.273 0.009 0.02  0.044 0.019 0.   ]\n",
      "[0, 1, 0, 1] = [0.197 0.026 0.024 0.112 0.003 0.   ]\n",
      "[0, 1, 1, 0] = [0.673 0.002 0.05  0.022 0.01  0.   ]\n",
      "[0, 1, 1, 1] = [0.432 0.008 0.043 0.045 0.001 0.   ]\n",
      "[1, 0, 0, 0] = [0.594 0.009 0.189 0.065 0.102 0.   ]\n",
      "[1, 0, 0, 1] = [0.472 0.046 0.162 0.157 0.012 0.   ]\n",
      "[1, 0, 1, 0] = [0.865 0.002 0.349 0.032 0.053 0.   ]\n",
      "[1, 0, 1, 1] = [0.806 0.017 0.324 0.081 0.006 0.   ]\n",
      "[1, 1, 0, 0] = [0.672 0.02  0.093 0.112 0.036 0.   ]\n",
      "[1, 1, 0, 1] = [0.445 0.066 0.069 0.197 0.006 0.   ]\n",
      "[1, 1, 1, 0] = [0.882 0.004 0.19  0.049 0.036 0.   ]\n",
      "[1, 1, 1, 1] = [0.784 0.022 0.147 0.095 0.003 0.   ]\n"
     ]
    }
   ],
   "source": [
    "for x, _ in gates:\n",
    "    y, _ = rede.feedforward(x)\n",
    "    print('{} = {}'.format(x, np.round(y[0], 3)))"
   ]
  },
  {
   "cell_type": "code",
   "execution_count": 4,
   "metadata": {},
   "outputs": [
    {
     "name": "stdout",
     "output_type": "stream",
     "text": [
      "Epoca: 00000 | MSE: 1.62360538\n",
      "Epoca: 01000 | MSE: 0.00223758\n",
      "Epoca: 02000 | MSE: 0.00088244\n",
      "Epoca: 03000 | MSE: 0.00053074\n",
      "Epoca: 04000 | MSE: 0.00037415\n",
      "Epoca: 05000 | MSE: 0.00028677\n",
      "Epoca: 06000 | MSE: 0.00023143\n",
      "Epoca: 07000 | MSE: 0.00019343\n",
      "Epoca: 08000 | MSE: 0.00016580\n",
      "Epoca: 09000 | MSE: 0.00014486\n",
      "Epoca: 10000 | MSE: 0.00012846\n",
      "Epoca: 11000 | MSE: 0.00011530\n",
      "Epoca: 12000 | MSE: 0.00010450\n",
      "Epoca: 13000 | MSE: 0.00009550\n",
      "Epoca: 14000 | MSE: 0.00008788\n",
      "Epoca: 15000 | MSE: 0.00008136\n",
      "Epoca: 16000 | MSE: 0.00007571\n",
      "Epoca: 17000 | MSE: 0.00007077\n",
      "Epoca: 18000 | MSE: 0.00006642\n",
      "Epoca: 19000 | MSE: 0.00006256\n"
     ]
    }
   ],
   "source": [
    "mse = rede.treino(amostras=gates, lim_epocas=20000, taxa=0.7)"
   ]
  },
  {
   "cell_type": "code",
   "execution_count": 5,
   "metadata": {},
   "outputs": [
    {
     "data": {
      "image/png": "[encoded data removed]",
      "text/plain": [
       "<Figure size 432x288 with 1 Axes>"
      ]
     },
     "metadata": {
      "needs_background": "light"
     },
     "output_type": "display_data"
    }
   ],
   "source": [
    "plt.plot(mse)\n",
    "plt.show()"
   ]
  },
  {
   "cell_type": "code",
   "execution_count": 6,
   "metadata": {},
   "outputs": [
    {
     "name": "stdout",
     "output_type": "stream",
     "text": [
      "[0, 0, 0, 0] = [0.004 0.995 0.    1.    0.997 0.002]\n",
      "[0, 0, 0, 1] = [0.998 0.002 0.    1.    0.003 0.997]\n",
      "[0, 0, 1, 0] = [0.999 0.001 0.    1.    0.002 0.997]\n",
      "[0, 0, 1, 1] = [1.    0.    0.004 0.997 0.995 0.005]\n",
      "[0, 1, 0, 0] = [0.998 0.002 0.    1.    0.003 0.997]\n",
      "[0, 1, 0, 1] = [0.998 0.002 0.    1.    0.994 0.006]\n",
      "[0, 1, 1, 0] = [1.    0.    0.002 0.998 0.997 0.003]\n",
      "[0, 1, 1, 1] = [1.    0.    0.003 0.996 0.007 0.993]\n",
      "[1, 0, 0, 0] = [0.997 0.003 0.    1.    0.003 0.997]\n",
      "[1, 0, 0, 1] = [1.    0.001 0.    1.    0.999 0.001]\n",
      "[1, 0, 1, 0] = [1.    0.    0.002 0.998 0.994 0.006]\n",
      "[1, 0, 1, 1] = [1.    0.    0.003 0.997 0.006 0.994]\n",
      "[1, 1, 0, 0] = [1.    0.001 0.    1.    0.999 0.   ]\n",
      "[1, 1, 0, 1] = [1.    0.    0.004 0.997 0.002 0.998]\n",
      "[1, 1, 1, 0] = [1.    0.    0.003 0.997 0.005 0.995]\n",
      "[1, 1, 1, 1] = [1.    0.    0.992 0.008 0.993 0.007]\n"
     ]
    }
   ],
   "source": [
    "for x, _ in gates:\n",
    "    y, _ = rede.feedforward(x)\n",
    "    print('{} = {}'.format(x, np.round(y[0], 3)))"
   ]
  }
 ],
 "metadata": {
  "interpreter": {
   "hash": "c32e92a0d8c75da1fb8fc5ee6212cadd32588b5e5f5af321237b5fa01cf9c517"
  },
  "kernelspec": {
   "display_name": "Python 3.9.7 ('formacao-cientista')",
   "language": "python",
   "name": "python3"
  },
  "language_info": {
   "codemirror_mode": {
    "name": "ipython",
    "version": 3
   },
   "file_extension": ".py",
   "mimetype": "text/x-python",
   "name": "python",
   "nbconvert_exporter": "python",
   "pygments_lexer": "ipython3",
   "version": "3.9.7"
  },
  "orig_nbformat": 4
 },
 "nbformat": 4,
 "nbformat_minor": 2
}
