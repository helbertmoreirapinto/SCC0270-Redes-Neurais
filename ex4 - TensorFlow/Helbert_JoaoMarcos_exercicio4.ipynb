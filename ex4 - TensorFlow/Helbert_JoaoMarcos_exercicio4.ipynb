{
  "cells": [
    {
      "cell_type": "markdown",
      "metadata": {
        "id": "uwt3cN6Ie3GG"
      },
      "source": [
        "<h1><center>SCC0270 - Redes Neurais e Aprendizado Profundo</center></h1>\n",
        "<h5><center>Prof.ª Dr.ª Roseli Aparecida Francelin Romero</center></h5>\n",
        "\n",
        "---\n",
        "\n",
        "<h2><center>Exercício 4 - Keras e MNIST</center></h2>\n",
        "\n",
        "---\n",
        "\n",
        "> **Helbert Moreira Pinto** - Nº USP: 10716504\n",
        ">\n",
        "> **João Marcos Della Torre Divino** - Nº USP: 10377708\n",
        "\n",
        "---"
      ]
    },
    {
      "cell_type": "markdown",
      "metadata": {
        "id": "Q6u8mH1-ttTE"
      },
      "source": [
        "# Bibliotecas utilizadas"
      ]
    },
    {
      "cell_type": "code",
      "execution_count": null,
      "metadata": {
        "id": "IsuXNJVBON8g"
      },
      "outputs": [],
      "source": [
        "import tensorflow as tf\n",
        "import numpy as np\n",
        "import matplotlib.pyplot as plt\n",
        "\n",
        "from skimage import color"
      ]
    },
    {
      "cell_type": "markdown",
      "metadata": {
        "id": "sx24z8UMtxHa"
      },
      "source": [
        "# Funções auxiliares"
      ]
    },
    {
      "cell_type": "code",
      "execution_count": null,
      "metadata": {
        "id": "M5ETg4vctzfq"
      },
      "outputs": [],
      "source": [
        "# Função para carregar novas imagens de dígitos\n",
        "def load_new_data():\n",
        "  \n",
        "  filename = [\"0_v1.png\", \"0_v2.png\", \"1_v1.png\", \"1_v2.png\", \"2_v1.png\", \"2_v2.png\",\n",
        "              \"3_v1.png\", \"3_v2.png\", \"4_v1.png\", \"4_v2.png\", \"5_v1.png\", \"5_v2.png\",\n",
        "              \"6_v1.png\", \"6_v2.png\", \"7_v1.png\", \"7_v2.png\", \"8_v1.png\", \"8_v2.png\",\n",
        "              \"9_v1.png\", \"9_v2.png\"]\n",
        "  \n",
        "  data    = []\n",
        "  labels  = np.array([0, 0, 1, 1, 2, 2, 3, 3, 4, 4, 5, 5, 6, 6, 7, 7, 8, 8, 9, 9])\n",
        "\n",
        "  for i in range(len(filename)):\n",
        "    img     = plt.imread(\"digitos/\" + filename[i]) # (\"digitos/\" + filename[i])\n",
        "    imgGray = (((-1.0)*(color.rgb2gray(img))) + 1.0)\n",
        "    data.append(imgGray)\n",
        "  \n",
        "  data = np.array(data)\n",
        "  data = data.reshape(data.shape[0], 28, 28, 1)\n",
        "\n",
        "  return data, labels"
      ]
    },
    {
      "cell_type": "code",
      "execution_count": null,
      "metadata": {
        "id": "4oBReK7Uisla"
      },
      "outputs": [],
      "source": [
        "# Função para exibir os resultados do treinamento\n",
        "def train_results(historico, epocas):\n",
        "  \n",
        "  acc     = historico['accuracy']\n",
        "  val_acc = historico['val_accuracy']\n",
        "\n",
        "  loss      = historico['loss']\n",
        "  val_loss  = historico['val_loss']\n",
        "\n",
        "  epochs_range = range(epocas)\n",
        "\n",
        "  plt.figure(figsize=(8, 8))\n",
        "  plt.subplot(1, 2, 1)\n",
        "  plt.plot(epochs_range, acc, label='Acurácia do treino')\n",
        "  plt.plot(epochs_range, val_acc, label='Acurácia da validação')\n",
        "  plt.legend(loc='lower right')\n",
        "  plt.title('Acurácia do treino e validação')\n",
        "\n",
        "  plt.subplot(1, 2, 2)\n",
        "  plt.plot(epochs_range, loss, label='Perda no treino')\n",
        "  plt.plot(epochs_range, val_loss, label='Perda na validação')\n",
        "  plt.legend(loc='upper right')\n",
        "  plt.title('Perda no treino e validação')\n",
        "  plt.show()"
      ]
    },
    {
      "cell_type": "code",
      "execution_count": null,
      "metadata": {
        "id": "emZv_GU71QAI"
      },
      "outputs": [],
      "source": [
        "# Função para exibir o digito e se o modelo conseguiu classificar corretamente\n",
        "def plot_image(i, predictions_array, true_label, img):\n",
        "  true_label, img = true_label[i], img[i].reshape(28,28)\n",
        "  plt.grid(False)\n",
        "  plt.xticks([])\n",
        "  plt.yticks([])\n",
        "\n",
        "  plt.imshow(img, cmap=plt.cm.binary)\n",
        "\n",
        "  predicted_label = np.argmax(predictions_array)\n",
        "  if predicted_label == true_label:\n",
        "    color = 'blue'\n",
        "  else:\n",
        "    color = 'red'\n",
        "\n",
        "  plt.xlabel(\"{} {:2.0f}% ({})\".format(predicted_label,\n",
        "                                100*np.max(predictions_array),\n",
        "                                true_label),\n",
        "                                color=color)\n",
        "\n"
      ]
    },
    {
      "cell_type": "code",
      "execution_count": null,
      "metadata": {
        "id": "bfTXtBbN6yKY"
      },
      "outputs": [],
      "source": [
        "# Função auxiliar para exibir os resultados\n",
        "def plot_value_array(i, predictions_array, true_label):\n",
        "  true_label = true_label[i]\n",
        "  plt.grid(False)\n",
        "  plt.xticks(range(10))\n",
        "  plt.yticks([])\n",
        "  thisplot = plt.bar(range(10), predictions_array, color=\"#777777\")\n",
        "  plt.ylim([0, 1])\n",
        "  predicted_label = np.argmax(predictions_array)\n",
        "\n",
        "  thisplot[predicted_label].set_color('red')\n",
        "  thisplot[true_label].set_color('blue')"
      ]
    },
    {
      "cell_type": "markdown",
      "metadata": {
        "id": "rNuD1DiTlgOg"
      },
      "source": [
        "# Carregando o *dataset* MNIST"
      ]
    },
    {
      "cell_type": "code",
      "execution_count": null,
      "metadata": {
        "id": "EoU0JTtfXNEg"
      },
      "outputs": [],
      "source": [
        "# Carregando o dataset\n",
        "mnist = tf.keras.datasets.mnist"
      ]
    },
    {
      "cell_type": "code",
      "execution_count": null,
      "metadata": {
        "id": "DT-3WpYBlybx"
      },
      "outputs": [],
      "source": [
        "# Separando os dados em treino e teste\n",
        "(X_train, y_train), (X_test, y_test) = mnist.load_data()"
      ]
    },
    {
      "cell_type": "code",
      "execution_count": null,
      "metadata": {
        "colab": {
          "base_uri": "https://localhost:8080/"
        },
        "id": "1yq_x2td0I2H",
        "outputId": "a72bd672-3c67-4a2c-c27e-49a170c45cd8"
      },
      "outputs": [
        {
          "data": {
            "text/plain": [
              "((60000, 28, 28), (60000,), (10000, 28, 28), (10000,))"
            ]
          },
          "execution_count": 8,
          "metadata": {},
          "output_type": "execute_result"
        }
      ],
      "source": [
        "# Explorando o dataset\n",
        "X_train.shape, y_train.shape, X_test.shape, y_test.shape"
      ]
    },
    {
      "cell_type": "code",
      "execution_count": null,
      "metadata": {
        "colab": {
          "base_uri": "https://localhost:8080/",
          "height": 283
        },
        "id": "Abbf8kKr0uVq",
        "outputId": "79565cc0-5ac1-4ea3-c554-52d9d1cc2f97"
      },
      "outputs": [
        {
          "data": {
            "image/png": "[encoded data removed]",
            "text/plain": [
              "<Figure size 432x288 with 2 Axes>"
            ]
          },
          "metadata": {
            "needs_background": "light"
          },
          "output_type": "display_data"
        },
        {
          "name": "stdout",
          "output_type": "stream",
          "text": [
            "digito: 5\n"
          ]
        }
      ],
      "source": [
        "# Visualizando os dados\n",
        "plt.figure()\n",
        "plt.imshow(X_train[0], cmap=plt.cm.binary)\n",
        "plt.colorbar()\n",
        "plt.grid(False)\n",
        "plt.show()\n",
        "\n",
        "print(f'digito: {y_train[0]}')"
      ]
    },
    {
      "cell_type": "markdown",
      "metadata": {
        "id": "BnmWwiq-lnxa"
      },
      "source": [
        "# Normalização dos dados\n",
        "> Como pode ser visto, o valor dos pixels da imagem estão no intervalo $[0; 255]$. Ora, é preciso normalizá-los para o intervalo $[0; 1]$ antes de alimentar a rede com tais dados."
      ]
    },
    {
      "cell_type": "code",
      "execution_count": null,
      "metadata": {
        "id": "VKrc7Du90n1i"
      },
      "outputs": [],
      "source": [
        "# Normalizando os dados\n",
        "X_train, X_test = (X_train / 255.0), (X_test / 255.0)"
      ]
    },
    {
      "cell_type": "code",
      "execution_count": null,
      "metadata": {
        "colab": {
          "base_uri": "https://localhost:8080/",
          "height": 269
        },
        "id": "_LS_7Z1AmH_8",
        "outputId": "946cacfc-85f0-4602-af45-032eca2d6fd8"
      },
      "outputs": [
        {
          "data": {
            "image/png": "[encoded data removed]",
            "text/plain": [
              "<Figure size 432x288 with 2 Axes>"
            ]
          },
          "metadata": {
            "needs_background": "light"
          },
          "output_type": "display_data"
        }
      ],
      "source": [
        "# Visualizando os dados após normalização\n",
        "plt.figure()\n",
        "plt.imshow(X_train[0], cmap=plt.cm.binary)\n",
        "plt.colorbar()\n",
        "plt.grid(False)\n",
        "plt.show()"
      ]
    },
    {
      "cell_type": "markdown",
      "metadata": {
        "id": "zsCf25PBoay_"
      },
      "source": [
        "# Redimensionando os dados\n",
        "> Para adequar os dados ao formato solicitado pelo Keras para as etapas de convolução, é preciso redimensionar os dados, adicionando uma nova dimensão, que seria como o canal de cor da imagem (neste caso, uma dimensão, por ser monocromático)."
      ]
    },
    {
      "cell_type": "code",
      "execution_count": null,
      "metadata": {
        "id": "EincZ9YTa-Gg"
      },
      "outputs": [],
      "source": [
        "X_train = X_train.reshape((X_train.shape[0], 28, 28, 1))\n",
        "X_test = X_test.reshape((X_test.shape[0], 28, 28, 1))"
      ]
    },
    {
      "cell_type": "markdown",
      "metadata": {
        "id": "va6Qjze3oj6A"
      },
      "source": [
        "# Criando a rede convolucional para classificação\n",
        "> Foram solicitadas as seguintes configurações para a rede convolucional:\n",
        ">  * Camadas de convolução e pooling no modelo;\n",
        ">  * Testar 3 tamanhos diferentes de filtros nas camadas de convolução;\n",
        ">  * Uma camada totalmente conectada antes da camada softmax.\n",
        ">\n",
        "> Levando isso em conta, foram desenvolvidos 3 modelos, os quais são apresentados abaixo."
      ]
    },
    {
      "cell_type": "code",
      "execution_count": null,
      "metadata": {
        "id": "QURdsldhQPku"
      },
      "outputs": [],
      "source": [
        "np.random.seed(42)\n",
        "tf.random.set_seed(42)"
      ]
    },
    {
      "cell_type": "markdown",
      "metadata": {
        "id": "PadfxiuPSfi1"
      },
      "source": [
        "## Modelo 1  \n",
        "> **Filtro de tamanho 16** nas camadas de convolução"
      ]
    },
    {
      "cell_type": "code",
      "execution_count": null,
      "metadata": {
        "colab": {
          "base_uri": "https://localhost:8080/"
        },
        "id": "7Qvdoou1VE3E",
        "outputId": "6431ab7a-d927-4d25-8782-4154116e8782"
      },
      "outputs": [
        {
          "name": "stdout",
          "output_type": "stream",
          "text": [
            "Model: \"sequential\"\n",
            "_________________________________________________________________\n",
            " Layer (type)                Output Shape              Param #   \n",
            "=================================================================\n",
            " conv2d (Conv2D)             (None, 26, 26, 16)        160       \n",
            "                                                                 \n",
            " max_pooling2d (MaxPooling2D  (None, 13, 13, 16)       0         \n",
            " )                                                               \n",
            "                                                                 \n",
            " conv2d_1 (Conv2D)           (None, 11, 11, 16)        2320      \n",
            "                                                                 \n",
            " max_pooling2d_1 (MaxPooling  (None, 5, 5, 16)         0         \n",
            " 2D)                                                             \n",
            "                                                                 \n",
            " flatten (Flatten)           (None, 400)               0         \n",
            "                                                                 \n",
            " dense (Dense)               (None, 128)               51328     \n",
            "                                                                 \n",
            " dense_1 (Dense)             (None, 10)                1290      \n",
            "                                                                 \n",
            "=================================================================\n",
            "Total params: 55,098\n",
            "Trainable params: 55,098\n",
            "Non-trainable params: 0\n",
            "_________________________________________________________________\n",
            "None\n"
          ]
        }
      ],
      "source": [
        "# Definindo o modelo\n",
        "model_16 = tf.keras.models.Sequential([    \n",
        "    tf.keras.layers.Conv2D(16, 3, activation='relu', input_shape=(28, 28, 1)),  # Camada convolucional + ReLU\n",
        "    tf.keras.layers.MaxPooling2D(),                                             # Subamostragem\n",
        "    tf.keras.layers.Conv2D(16, 3, activation='relu'),                           # Camada convolucional + ReLU\n",
        "    tf.keras.layers.MaxPooling2D(),                                             # Subamostragem\n",
        "    tf.keras.layers.Flatten(),                                                  # Subamostragem (flatten)\n",
        "    tf.keras.layers.Dense(128, activation='relu'),                              # Camada densa (128 neurônios) + ReLU\n",
        "    tf.keras.layers.Dense(10, activation='softmax')                             # Camada softmax (10 neurônios - um por classe)\n",
        "  ])\n",
        "\n",
        "# Compilando o modelo\n",
        "model_16.compile(optimizer='adam',\n",
        "              loss='sparse_categorical_crossentropy',\n",
        "              metrics=['accuracy'])\n",
        "\n",
        "print(model_16.summary())"
      ]
    },
    {
      "cell_type": "markdown",
      "metadata": {
        "id": "4OwpcR9FSnKr"
      },
      "source": [
        "## Modelo 2\n",
        "> **Filtro de tamanho 32** nas camadas de convolução"
      ]
    },
    {
      "cell_type": "code",
      "execution_count": null,
      "metadata": {
        "colab": {
          "base_uri": "https://localhost:8080/"
        },
        "id": "GC1bmV9ESpJK",
        "outputId": "d0837f68-c5f9-4d54-9e26-f4635a31306b"
      },
      "outputs": [
        {
          "name": "stdout",
          "output_type": "stream",
          "text": [
            "Model: \"sequential_1\"\n",
            "_________________________________________________________________\n",
            " Layer (type)                Output Shape              Param #   \n",
            "=================================================================\n",
            " conv2d_2 (Conv2D)           (None, 26, 26, 32)        320       \n",
            "                                                                 \n",
            " max_pooling2d_2 (MaxPooling  (None, 13, 13, 32)       0         \n",
            " 2D)                                                             \n",
            "                                                                 \n",
            " conv2d_3 (Conv2D)           (None, 11, 11, 32)        9248      \n",
            "                                                                 \n",
            " max_pooling2d_3 (MaxPooling  (None, 5, 5, 32)         0         \n",
            " 2D)                                                             \n",
            "                                                                 \n",
            " flatten_1 (Flatten)         (None, 800)               0         \n",
            "                                                                 \n",
            " dense_2 (Dense)             (None, 128)               102528    \n",
            "                                                                 \n",
            " dense_3 (Dense)             (None, 10)                1290      \n",
            "                                                                 \n",
            "=================================================================\n",
            "Total params: 113,386\n",
            "Trainable params: 113,386\n",
            "Non-trainable params: 0\n",
            "_________________________________________________________________\n",
            "None\n"
          ]
        }
      ],
      "source": [
        "# Definindo o modelo\n",
        "model_32 = tf.keras.models.Sequential([    \n",
        "    tf.keras.layers.Conv2D(32, 3, activation='relu', input_shape=(28, 28, 1)),  # Camada convolucional + ReLU\n",
        "    tf.keras.layers.MaxPooling2D(),                                             # Subamostragem\n",
        "    tf.keras.layers.Conv2D(32, 3, activation='relu'),                           # Camada convolucional + ReLU\n",
        "    tf.keras.layers.MaxPooling2D(),                                             # Subamostragem\n",
        "    tf.keras.layers.Flatten(),                                                  # Subamostragem (flatten)\n",
        "    tf.keras.layers.Dense(128, activation='relu'),                              # Camada densa (128 neurônios) + ReLU\n",
        "    tf.keras.layers.Dense(10, activation='softmax')                             # Camada softmax (10 neurônios - um por classe)\n",
        "  ])\n",
        "\n",
        "# Compilando o modelo\n",
        "model_32.compile(optimizer='adam',\n",
        "              loss='sparse_categorical_crossentropy',\n",
        "              metrics=['accuracy'])\n",
        "\n",
        "print(model_32.summary())"
      ]
    },
    {
      "cell_type": "markdown",
      "metadata": {
        "id": "8uJHbps9SpYD"
      },
      "source": [
        "## Modelo 3\n",
        "> **Filtro de tamanho 64** nas camadas de convolução"
      ]
    },
    {
      "cell_type": "code",
      "execution_count": null,
      "metadata": {
        "colab": {
          "base_uri": "https://localhost:8080/"
        },
        "id": "tEtSAGc7TU7C",
        "outputId": "cf5262d2-a133-42fa-8172-192e5d6c8876"
      },
      "outputs": [
        {
          "name": "stdout",
          "output_type": "stream",
          "text": [
            "Model: \"sequential_2\"\n",
            "_________________________________________________________________\n",
            " Layer (type)                Output Shape              Param #   \n",
            "=================================================================\n",
            " conv2d_4 (Conv2D)           (None, 26, 26, 64)        640       \n",
            "                                                                 \n",
            " max_pooling2d_4 (MaxPooling  (None, 13, 13, 64)       0         \n",
            " 2D)                                                             \n",
            "                                                                 \n",
            " conv2d_5 (Conv2D)           (None, 11, 11, 64)        36928     \n",
            "                                                                 \n",
            " max_pooling2d_5 (MaxPooling  (None, 5, 5, 64)         0         \n",
            " 2D)                                                             \n",
            "                                                                 \n",
            " flatten_2 (Flatten)         (None, 1600)              0         \n",
            "                                                                 \n",
            " dense_4 (Dense)             (None, 128)               204928    \n",
            "                                                                 \n",
            " dense_5 (Dense)             (None, 10)                1290      \n",
            "                                                                 \n",
            "=================================================================\n",
            "Total params: 243,786\n",
            "Trainable params: 243,786\n",
            "Non-trainable params: 0\n",
            "_________________________________________________________________\n",
            "None\n"
          ]
        }
      ],
      "source": [
        "# Definindo o modelo\n",
        "model_64 = tf.keras.models.Sequential([    \n",
        "    tf.keras.layers.Conv2D(64, 3, activation='relu', input_shape=(28, 28, 1)),  # Camada convolucional + ReLU\n",
        "    tf.keras.layers.MaxPooling2D(),                                             # Subamostragem\n",
        "    tf.keras.layers.Conv2D(64, 3, activation='relu'),                           # Camada convolucional + ReLU\n",
        "    tf.keras.layers.MaxPooling2D(),                                             # Subamostragem\n",
        "    tf.keras.layers.Flatten(),                                                  # Subamostragem (flatten)\n",
        "    tf.keras.layers.Dense(128, activation='relu'),                              # Camada densa (128 neurônios) + ReLU\n",
        "    tf.keras.layers.Dense(10, activation='softmax')                             # Camada softmax (10 neurônios - um por classe)\n",
        "  ])\n",
        "\n",
        "# Compilando o modelo\n",
        "model_64.compile(optimizer='adam',\n",
        "              loss='sparse_categorical_crossentropy',\n",
        "              metrics=['accuracy'])\n",
        "\n",
        "print(model_64.summary())"
      ]
    },
    {
      "cell_type": "markdown",
      "metadata": {
        "id": "zDvx2RFoouN6"
      },
      "source": [
        "## Treinamento das redes"
      ]
    },
    {
      "cell_type": "code",
      "execution_count": null,
      "metadata": {
        "id": "W8C1KLshjWR9"
      },
      "outputs": [],
      "source": [
        "epocas = 5\n",
        "validacao = 0.2"
      ]
    },
    {
      "cell_type": "code",
      "execution_count": null,
      "metadata": {
        "colab": {
          "base_uri": "https://localhost:8080/"
        },
        "id": "tcCMXEmFZpf3",
        "outputId": "73ca4981-24b3-46d7-e180-fa183b920a3d"
      },
      "outputs": [
        {
          "name": "stdout",
          "output_type": "stream",
          "text": [
            "Epoch 1/5\n",
            "1500/1500 [==============================] - 24s 15ms/step - loss: 0.1988 - accuracy: 0.9406 - val_loss: 0.0666 - val_accuracy: 0.9799\n",
            "Epoch 2/5\n",
            "1500/1500 [==============================] - 17s 12ms/step - loss: 0.0640 - accuracy: 0.9803 - val_loss: 0.0576 - val_accuracy: 0.9827\n",
            "Epoch 3/5\n",
            "1500/1500 [==============================] - 20s 13ms/step - loss: 0.0445 - accuracy: 0.9860 - val_loss: 0.0438 - val_accuracy: 0.9876\n",
            "Epoch 4/5\n",
            "1500/1500 [==============================] - 18s 12ms/step - loss: 0.0344 - accuracy: 0.9888 - val_loss: 0.0431 - val_accuracy: 0.9873\n",
            "Epoch 5/5\n",
            "1500/1500 [==============================] - 17s 12ms/step - loss: 0.0263 - accuracy: 0.9914 - val_loss: 0.0414 - val_accuracy: 0.9884\n"
          ]
        }
      ],
      "source": [
        "train_16 = model_16.fit(X_train, y_train, epochs=epocas, validation_split=validacao)"
      ]
    },
    {
      "cell_type": "code",
      "execution_count": null,
      "metadata": {
        "colab": {
          "base_uri": "https://localhost:8080/",
          "height": 499
        },
        "id": "uKpJDdfSb4sC",
        "outputId": "fc0129d4-b111-459d-de54-a9c222184fe2"
      },
      "outputs": [
        {
          "data": {
            "image/png": "[encoded data removed]",
            "text/plain": [
              "<Figure size 576x576 with 2 Axes>"
            ]
          },
          "metadata": {
            "needs_background": "light"
          },
          "output_type": "display_data"
        }
      ],
      "source": [
        "train_results(train_16.history, epocas)"
      ]
    },
    {
      "cell_type": "code",
      "execution_count": null,
      "metadata": {
        "colab": {
          "base_uri": "https://localhost:8080/"
        },
        "id": "SSC-5LQPbWFF",
        "outputId": "60e574f6-7add-4be4-f81c-eec1b93c1d31"
      },
      "outputs": [
        {
          "name": "stdout",
          "output_type": "stream",
          "text": [
            "Epoch 1/5\n",
            "1500/1500 [==============================] - 26s 17ms/step - loss: 0.1618 - accuracy: 0.9503 - val_loss: 0.0556 - val_accuracy: 0.9849\n",
            "Epoch 2/5\n",
            "1500/1500 [==============================] - 28s 18ms/step - loss: 0.0488 - accuracy: 0.9846 - val_loss: 0.0488 - val_accuracy: 0.9852\n",
            "Epoch 3/5\n",
            "1500/1500 [==============================] - 28s 19ms/step - loss: 0.0335 - accuracy: 0.9894 - val_loss: 0.0365 - val_accuracy: 0.9905\n",
            "Epoch 4/5\n",
            "1500/1500 [==============================] - 27s 18ms/step - loss: 0.0240 - accuracy: 0.9924 - val_loss: 0.0395 - val_accuracy: 0.9893\n",
            "Epoch 5/5\n",
            "1500/1500 [==============================] - 27s 18ms/step - loss: 0.0181 - accuracy: 0.9944 - val_loss: 0.0413 - val_accuracy: 0.9886\n"
          ]
        }
      ],
      "source": [
        "train_32 = model_32.fit(X_train, y_train, epochs=epocas, validation_split=validacao)"
      ]
    },
    {
      "cell_type": "code",
      "execution_count": null,
      "metadata": {
        "colab": {
          "base_uri": "https://localhost:8080/",
          "height": 499
        },
        "id": "wnRLdvYzjfQa",
        "outputId": "a4d1414b-96c7-47a3-ed2f-75badb39b526"
      },
      "outputs": [
        {
          "data": {
            "image/png": "[encoded data removed]",
            "text/plain": [
              "<Figure size 576x576 with 2 Axes>"
            ]
          },
          "metadata": {
            "needs_background": "light"
          },
          "output_type": "display_data"
        }
      ],
      "source": [
        "train_results(train_32.history, epocas)"
      ]
    },
    {
      "cell_type": "code",
      "execution_count": null,
      "metadata": {
        "colab": {
          "base_uri": "https://localhost:8080/"
        },
        "id": "S1ceMXR9bWhe",
        "outputId": "8d8292a0-3718-4c7b-d5da-e8a5b58e94fa"
      },
      "outputs": [
        {
          "name": "stdout",
          "output_type": "stream",
          "text": [
            "Epoch 1/5\n",
            "1500/1500 [==============================] - 51s 34ms/step - loss: 0.1394 - accuracy: 0.9562 - val_loss: 0.0526 - val_accuracy: 0.9861\n",
            "Epoch 2/5\n",
            "1500/1500 [==============================] - 51s 34ms/step - loss: 0.0442 - accuracy: 0.9862 - val_loss: 0.0457 - val_accuracy: 0.9865\n",
            "Epoch 3/5\n",
            "1500/1500 [==============================] - 51s 34ms/step - loss: 0.0293 - accuracy: 0.9909 - val_loss: 0.0366 - val_accuracy: 0.9891\n",
            "Epoch 4/5\n",
            "1500/1500 [==============================] - 50s 34ms/step - loss: 0.0208 - accuracy: 0.9937 - val_loss: 0.0382 - val_accuracy: 0.9890\n",
            "Epoch 5/5\n",
            "1500/1500 [==============================] - 51s 34ms/step - loss: 0.0151 - accuracy: 0.9951 - val_loss: 0.0381 - val_accuracy: 0.9893\n"
          ]
        }
      ],
      "source": [
        "train_64 = model_64.fit(X_train, y_train, epochs=epocas, validation_split=validacao)"
      ]
    },
    {
      "cell_type": "code",
      "execution_count": null,
      "metadata": {
        "colab": {
          "base_uri": "https://localhost:8080/",
          "height": 499
        },
        "id": "ThTgIoZpjha5",
        "outputId": "bb559c22-edaf-4cc0-812d-4940d8b575ae"
      },
      "outputs": [
        {
          "data": {
            "image/png": "[encoded data removed]",
            "text/plain": [
              "<Figure size 576x576 with 2 Axes>"
            ]
          },
          "metadata": {
            "needs_background": "light"
          },
          "output_type": "display_data"
        }
      ],
      "source": [
        "train_results(train_64.history, epocas)"
      ]
    },
    {
      "cell_type": "markdown",
      "metadata": {
        "id": "tfwTnIxxoxBs"
      },
      "source": [
        "## Teste das redes"
      ]
    },
    {
      "cell_type": "code",
      "execution_count": null,
      "metadata": {
        "colab": {
          "base_uri": "https://localhost:8080/"
        },
        "id": "gg2DSPnDZyvu",
        "outputId": "b5cfc4ce-f479-4882-febc-845510d9c64b"
      },
      "outputs": [
        {
          "name": "stdout",
          "output_type": "stream",
          "text": [
            "313/313 - 1s - loss: 0.0361 - accuracy: 0.9884 - 1s/epoch - 5ms/step\n"
          ]
        },
        {
          "data": {
            "text/plain": [
              "[0.03607882931828499, 0.9883999824523926]"
            ]
          },
          "execution_count": 24,
          "metadata": {},
          "output_type": "execute_result"
        }
      ],
      "source": [
        "# Avaliando o modelo\n",
        "model_16.evaluate(X_test, y_test, verbose=2)"
      ]
    },
    {
      "cell_type": "code",
      "execution_count": null,
      "metadata": {
        "colab": {
          "base_uri": "https://localhost:8080/"
        },
        "id": "POTBxE6bZgEk",
        "outputId": "ce7c20d7-e80b-45c1-bd8b-e1d76038ec18"
      },
      "outputs": [
        {
          "name": "stdout",
          "output_type": "stream",
          "text": [
            "313/313 - 2s - loss: 0.0348 - accuracy: 0.9892 - 2s/epoch - 6ms/step\n"
          ]
        },
        {
          "data": {
            "text/plain": [
              "[0.03481077030301094, 0.9891999959945679]"
            ]
          },
          "execution_count": 25,
          "metadata": {},
          "output_type": "execute_result"
        }
      ],
      "source": [
        "# Avaliando o modelo\n",
        "model_32.evaluate(X_test, y_test, verbose=2)"
      ]
    },
    {
      "cell_type": "code",
      "execution_count": null,
      "metadata": {
        "colab": {
          "base_uri": "https://localhost:8080/"
        },
        "id": "nurxzFMiZg0s",
        "outputId": "9825b953-c0af-463f-b4b1-4be0c9945c45"
      },
      "outputs": [
        {
          "name": "stdout",
          "output_type": "stream",
          "text": [
            "313/313 - 3s - loss: 0.0315 - accuracy: 0.9899 - 3s/epoch - 9ms/step\n"
          ]
        },
        {
          "data": {
            "text/plain": [
              "[0.03151592239737511, 0.9898999929428101]"
            ]
          },
          "execution_count": 26,
          "metadata": {},
          "output_type": "execute_result"
        }
      ],
      "source": [
        "# Avaliando o modelo\n",
        "model_64.evaluate(X_test, y_test, verbose=2)"
      ]
    },
    {
      "cell_type": "markdown",
      "metadata": {
        "id": "aXYGrhLSozwU"
      },
      "source": [
        "# Avaliação da rede com novos dados"
      ]
    },
    {
      "cell_type": "code",
      "execution_count": null,
      "metadata": {
        "id": "OKrJTf3UdKzn"
      },
      "outputs": [],
      "source": [
        "new_X, new_y = load_new_data()"
      ]
    },
    {
      "cell_type": "code",
      "execution_count": null,
      "metadata": {
        "id": "vCHrBWZ64xYs"
      },
      "outputs": [],
      "source": [
        "# Predição das novas imagens fornecidas\n",
        "predictions = model_64.predict(new_X)"
      ]
    },
    {
      "cell_type": "code",
      "execution_count": null,
      "metadata": {
        "colab": {
          "base_uri": "https://localhost:8080/",
          "height": 729
        },
        "id": "1D6maMJ40ggR",
        "outputId": "77ee6547-d210-44f2-8a11-e13758b56523"
      },
      "outputs": [
        {
          "data": {
            "image/png": "[encoded data removed]",
            "text/plain": [
              "<Figure size 1152x720 with 40 Axes>"
            ]
          },
          "metadata": {
            "needs_background": "light"
          },
          "output_type": "display_data"
        }
      ],
      "source": [
        "# Plot the first X test images, their predicted labels, and the true labels.\n",
        "# Color correct predictions in blue and incorrect predictions in red.\n",
        "num_rows = 5\n",
        "num_cols = 4\n",
        "num_images = num_rows*num_cols\n",
        "plt.figure(figsize=(2*2*num_cols, 2*num_rows))\n",
        "for i in range(num_images):\n",
        "  plt.subplot(num_rows, 2*num_cols, 2*i+1)\n",
        "  plot_image(i, predictions[i], new_y, new_X)\n",
        "  plt.subplot(num_rows, 2*num_cols, 2*i+2)\n",
        "  plot_value_array(i, predictions[i], new_y)\n",
        "plt.tight_layout()\n",
        "plt.show()"
      ]
    },
    {
      "cell_type": "markdown",
      "metadata": {},
      "source": [
        "## Resultados"
      ]
    },
    {
      "cell_type": "markdown",
      "metadata": {},
      "source": [
        "Pode-se observar que os 3 modelos tiveram um bom desempenho e conseguiram classificar bem os dígitos. Isso se deve ao fato do dataset possuir classes bem definidas, sendo um conjunto de dados muito utilizado para calibração de modelos de aprendizado profundo.  \n",
        "\n",
        "Em termos dos tamanhos dos filtros utilizados, pode-se considerar que o modelo cujo filtro possui tamanho 16 obteve o melhor custo-beneficio em termos de acurácia e tempo de execução pois os ganhos de acurácia nos modelos mais complexos não foram significativos.  \n",
        "\n",
        "Por fim, quando fornecemos digitos desenhados pela dupla, notamos que o modelo manteve o bom desempenho, tanto que em casos onde o digito adimite grafias diferentes, vemos que o modelo conseguiu interpretar corretamente, por exemplo os digitos 2 e 4. Entretanto, mesmo utilizando o modelo que obteve a melhor acurácia nos testes, vemos que houve casos em que o modelo não conseguiu identificar qual era o dígito correto. Isso ocorre porque inserirmos alguns casos cuja classificação pudesse causar duvidas no modelo. "
      ]
    }
  ],
  "metadata": {
    "colab": {
      "collapsed_sections": [],
      "name": "Helbert_JoaoMarcos_exercicio4.ipynb",
      "provenance": []
    },
    "interpreter": {
      "hash": "ed182a9026a1957bd1d4bfb8f264ad19a7c119bba20540304c3eb614bcab7b61"
    },
    "kernelspec": {
      "display_name": "Python 3.9.12 ('scc0270')",
      "language": "python",
      "name": "python3"
    },
    "language_info": {
      "name": "python",
      "version": "3.9.12"
    }
  },
  "nbformat": 4,
  "nbformat_minor": 0
}
