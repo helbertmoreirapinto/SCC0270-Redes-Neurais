{
 "cells": [
  {
   "cell_type": "markdown",
   "id": "31000fb8",
   "metadata": {},
   "source": [
    "## SCC0270 - Redes Neurais e Aprendizado Profundo ##"
   ]
  },
  {
   "cell_type": "markdown",
   "id": "507cbe4e",
   "metadata": {},
   "source": [
    "Alunos:\n",
    "- 10716504 - Helbert Moreira Pinto\n",
    "- 10377708 - João Marcos Della Torre Divino"
   ]
  },
  {
   "cell_type": "markdown",
   "id": "ee8e8e6b",
   "metadata": {},
   "source": [
    "### Exercicío 1 - Perceptron ###"
   ]
  },
  {
   "cell_type": "markdown",
   "id": "51582898",
   "metadata": {},
   "source": [
    "Implementar e treinar o modelo Adaline para reconhecer os símbolos Y e Y invertido (letra “Y” e letra “Y” invertida)"
   ]
  },
  {
   "cell_type": "markdown",
   "id": "7e311d39",
   "metadata": {},
   "source": [
    "Inicialmente construimos, a partir de matrizes de ordem 5, modelos graficos para os conjuntos de \"Y\" e de \"Y invertido\" utilizando o valor 1 para células com conteudo e -1 para representar a falta de conteudo.  \n",
    "Abaixo vemos imagens dos modelos elaborados."
   ]
  },
  {
   "cell_type": "markdown",
   "id": "c6269718",
   "metadata": {},
   "source": [
    "![Modelos Y](imgs/y.png) \n",
    "\n",
    "![Modelos Y Invertido](imgs/y_inv.png)"
   ]
  },
  {
   "cell_type": "code",
   "execution_count": 1,
   "id": "27e9e60d",
   "metadata": {},
   "outputs": [
    {
     "data": {
      "text/html": [
       "<div>\n",
       "<style scoped>\n",
       "    .dataframe tbody tr th:only-of-type {\n",
       "        vertical-align: middle;\n",
       "    }\n",
       "\n",
       "    .dataframe tbody tr th {\n",
       "        vertical-align: top;\n",
       "    }\n",
       "\n",
       "    .dataframe thead th {\n",
       "        text-align: right;\n",
       "    }\n",
       "</style>\n",
       "<table border=\"1\" class=\"dataframe\">\n",
       "  <thead>\n",
       "    <tr style=\"text-align: right;\">\n",
       "      <th></th>\n",
       "      <th>bias</th>\n",
       "      <th>x1</th>\n",
       "      <th>x2</th>\n",
       "      <th>x3</th>\n",
       "      <th>x4</th>\n",
       "      <th>x5</th>\n",
       "      <th>x6</th>\n",
       "      <th>x7</th>\n",
       "      <th>x8</th>\n",
       "      <th>x9</th>\n",
       "      <th>...</th>\n",
       "      <th>x17</th>\n",
       "      <th>x18</th>\n",
       "      <th>x19</th>\n",
       "      <th>x20</th>\n",
       "      <th>x21</th>\n",
       "      <th>x22</th>\n",
       "      <th>x23</th>\n",
       "      <th>x24</th>\n",
       "      <th>x25</th>\n",
       "      <th>y</th>\n",
       "    </tr>\n",
       "  </thead>\n",
       "  <tbody>\n",
       "    <tr>\n",
       "      <th>0</th>\n",
       "      <td>1</td>\n",
       "      <td>-1</td>\n",
       "      <td>-1</td>\n",
       "      <td>-1</td>\n",
       "      <td>-1</td>\n",
       "      <td>-1</td>\n",
       "      <td>-1</td>\n",
       "      <td>-1</td>\n",
       "      <td>1</td>\n",
       "      <td>-1</td>\n",
       "      <td>...</td>\n",
       "      <td>1</td>\n",
       "      <td>-1</td>\n",
       "      <td>1</td>\n",
       "      <td>-1</td>\n",
       "      <td>-1</td>\n",
       "      <td>1</td>\n",
       "      <td>-1</td>\n",
       "      <td>1</td>\n",
       "      <td>-1</td>\n",
       "      <td>-1</td>\n",
       "    </tr>\n",
       "    <tr>\n",
       "      <th>1</th>\n",
       "      <td>1</td>\n",
       "      <td>-1</td>\n",
       "      <td>1</td>\n",
       "      <td>-1</td>\n",
       "      <td>1</td>\n",
       "      <td>-1</td>\n",
       "      <td>-1</td>\n",
       "      <td>1</td>\n",
       "      <td>-1</td>\n",
       "      <td>1</td>\n",
       "      <td>...</td>\n",
       "      <td>1</td>\n",
       "      <td>1</td>\n",
       "      <td>1</td>\n",
       "      <td>-1</td>\n",
       "      <td>-1</td>\n",
       "      <td>-1</td>\n",
       "      <td>1</td>\n",
       "      <td>-1</td>\n",
       "      <td>-1</td>\n",
       "      <td>1</td>\n",
       "    </tr>\n",
       "    <tr>\n",
       "      <th>2</th>\n",
       "      <td>1</td>\n",
       "      <td>-1</td>\n",
       "      <td>-1</td>\n",
       "      <td>1</td>\n",
       "      <td>-1</td>\n",
       "      <td>-1</td>\n",
       "      <td>-1</td>\n",
       "      <td>-1</td>\n",
       "      <td>1</td>\n",
       "      <td>-1</td>\n",
       "      <td>...</td>\n",
       "      <td>1</td>\n",
       "      <td>-1</td>\n",
       "      <td>1</td>\n",
       "      <td>-1</td>\n",
       "      <td>1</td>\n",
       "      <td>-1</td>\n",
       "      <td>-1</td>\n",
       "      <td>-1</td>\n",
       "      <td>1</td>\n",
       "      <td>-1</td>\n",
       "    </tr>\n",
       "  </tbody>\n",
       "</table>\n",
       "<p>3 rows × 27 columns</p>\n",
       "</div>"
      ],
      "text/plain": [
       "  bias  x1  x2  x3  x4  x5  x6  x7  x8  x9  ... x17 x18 x19 x20 x21 x22 x23  \\\n",
       "0    1  -1  -1  -1  -1  -1  -1  -1   1  -1  ...   1  -1   1  -1  -1   1  -1   \n",
       "1    1  -1   1  -1   1  -1  -1   1  -1   1  ...   1   1   1  -1  -1  -1   1   \n",
       "2    1  -1  -1   1  -1  -1  -1  -1   1  -1  ...   1  -1   1  -1   1  -1  -1   \n",
       "\n",
       "  x24 x25   y  \n",
       "0   1  -1  -1  \n",
       "1  -1  -1   1  \n",
       "2  -1   1  -1  \n",
       "\n",
       "[3 rows x 27 columns]"
      ]
     },
     "execution_count": 1,
     "metadata": {},
     "output_type": "execute_result"
    }
   ],
   "source": [
    "from src.modelos import generate_dataframe\n",
    "\n",
    "# gera {size} modelos com ate {num_ruido} bits de ruido\n",
    "df = generate_dataframe(size=100, num_ruido=0)\n",
    "df.head(3)"
   ]
  },
  {
   "cell_type": "markdown",
   "id": "8eb25056",
   "metadata": {},
   "source": [
    "Criando função que separa os dados em amostras para treino e amostras para teste, executa o processo aprendizado e calcula a acuracia com os pesos finais.\n",
    "A função tem por objetivo executar o processo uma quantidade significativa de vezes a fim de encontrar uma acuracia media, removendo deste modo o fator inviesado pela aleatoriedade."
   ]
  },
  {
   "cell_type": "code",
   "execution_count": 2,
   "id": "7380bd4b",
   "metadata": {},
   "outputs": [],
   "source": [
    "# importando classe Perceptron criada no projeto\n",
    "from src.perceptron import Perceptron\n",
    "from sklearn.model_selection import train_test_split\n",
    "from random import randint\n",
    "\n",
    "# função que separa randomicamente os dados em treino/teste\n",
    "# realiza o processo de aprendizagem com os dados de treino\n",
    "# calcula a acuracia nos dados de teste\n",
    "def executar(n_testes, treino_teste=0.8, taxa_aprend=0.5):\n",
    "    soma_acuracia = 0\n",
    "    for rodada in range(n_testes):\n",
    "        # Para Debug\n",
    "        # utilizando randomicamente uma seed por rodada\n",
    "        seed = randint(1, 999999)\n",
    "\n",
    "        # separando aleatoriamente o conjunto de dados\n",
    "        df_teste, df_treino = train_test_split(df, test_size=treino_teste, shuffle=True, stratify=df['y'], random_state=seed)\n",
    "\n",
    "        # treino\n",
    "        p = Perceptron(n_entradas=len(df.columns)-2, tx=taxa_aprend, seed=seed)\n",
    "        p.treinar(df_treino)\n",
    "\n",
    "        # teste\n",
    "        n = 0\n",
    "        for i in df_teste.index:\n",
    "            X = [x for x in df_teste.loc[i, df_teste.columns != 'y']]\n",
    "            Y = df_teste['y'][i]\n",
    "            y = p.prever(X)\n",
    "            n += 1 if Y == y else 0\n",
    "        \n",
    "        acuracia = n/len(df_teste)\n",
    "        soma_acuracia += acuracia\n",
    "\n",
    "        # Para Debug\n",
    "        # ver casos onde acuracia não foi 100%\n",
    "        if acuracia < 0.6:\n",
    "            print(f'Seed cuja acuracia < 100%: {seed}')\n",
    "\n",
    "    print('Acuracia Media: {:.2f}%'.format(100*(soma_acuracia/n_testes)))"
   ]
  },
  {
   "cell_type": "code",
   "execution_count": 3,
   "id": "c4d06f4a",
   "metadata": {},
   "outputs": [
    {
     "name": "stdout",
     "output_type": "stream",
     "text": [
      "Acuracia Media: 99.90%\n"
     ]
    }
   ],
   "source": [
    "n = 200\n",
    "treino = 0.8\n",
    "taxa = 0.1\n",
    "\n",
    "executar(n_testes=n, treino_teste=treino, taxa_aprend=taxa)"
   ]
  },
  {
   "cell_type": "markdown",
   "id": "af5cf603",
   "metadata": {},
   "source": [
    "Debug"
   ]
  },
  {
   "cell_type": "code",
   "execution_count": 4,
   "id": "27cd7967",
   "metadata": {},
   "outputs": [
    {
     "name": "stdout",
     "output_type": "stream",
     "text": [
      "Int64Index([2, 6, 12, 15, 17, 18, 29, 32, 33, 40, 42, 54, 55, 56, 58, 59, 71,\n",
      "            76, 85, 98],\n",
      "           dtype='int64')\n",
      "Acuracia: 100.00%\n"
     ]
    }
   ],
   "source": [
    "arr_seed = [18188]\n",
    "\n",
    "for seed in arr_seed:\n",
    "    df_teste, df_treino = train_test_split(df, test_size=treino, shuffle=True, stratify=df['y'], random_state=seed)\n",
    "    print(df_teste.index.sort_values())\n",
    "\n",
    "\n",
    "    # treino\n",
    "    p = Perceptron(n_entradas=len(df.columns)-2, tx=taxa, seed=seed)\n",
    "    p.treinar(df_treino)\n",
    "\n",
    "    # teste\n",
    "    n = 0\n",
    "    for i in df_teste.index:\n",
    "        X = [x for x in df_teste.loc[i, df_teste.columns != 'y']]\n",
    "        Y = df_teste['y'][i]\n",
    "        y = p.prever(X)\n",
    "        n += 1 if Y == y else 0\n",
    "\n",
    "    acuracia = n/len(df_teste)\n",
    "\n",
    "    print('Acuracia: {:.2f}%'.format(100*acuracia))"
   ]
  }
 ],
 "metadata": {
  "kernelspec": {
   "display_name": "Python 3 (ipykernel)",
   "language": "python",
   "name": "python3"
  },
  "language_info": {
   "codemirror_mode": {
    "name": "ipython",
    "version": 3
   },
   "file_extension": ".py",
   "mimetype": "text/x-python",
   "name": "python",
   "nbconvert_exporter": "python",
   "pygments_lexer": "ipython3",
   "version": "3.9.7"
  }
 },
 "nbformat": 4,
 "nbformat_minor": 5
}
