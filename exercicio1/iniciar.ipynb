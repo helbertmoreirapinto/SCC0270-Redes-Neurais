{
 "cells": [
  {
   "cell_type": "markdown",
   "id": "31000fb8",
   "metadata": {},
   "source": [
    "## SCC0270 - Redes Neurais e Aprendizado Profundo ##"
   ]
  },
  {
   "cell_type": "markdown",
   "id": "ee8e8e6b",
   "metadata": {},
   "source": [
    "### Exercicío 1 - Perceptron ###"
   ]
  },
  {
   "cell_type": "markdown",
   "id": "507cbe4e",
   "metadata": {},
   "source": [
    "Alunos:\n",
    "- 10716504 - Helbert Moreira Pinto\n",
    "- 10377708 - João Marcos Della Torre Divino"
   ]
  },
  {
   "cell_type": "markdown",
   "id": "7e311d39",
   "metadata": {},
   "source": [
    "Carregando os modelos graficos de Y e Y invertido."
   ]
  },
  {
   "cell_type": "code",
   "execution_count": null,
   "id": "27e9e60d",
   "metadata": {},
   "outputs": [],
   "source": [
    "from src.carregar_dados import load_data\n",
    "\n",
    "df = load_data()\n",
    "df.head()"
   ]
  },
  {
   "cell_type": "markdown",
   "id": "8eb25056",
   "metadata": {},
   "source": [
    "Criando função que separa os dados em amostras para treino e amostras para teste, executa o processo aprendizado e calcula a acuracia com os pesos finais.\n",
    "A função tem por objetivo executar o processo uma quantidade significativa de vezes a fim de encontrar uma acuracia media, removendo deste modo o fator inviesado pela aleatoriedade."
   ]
  },
  {
   "cell_type": "code",
   "execution_count": null,
   "id": "7380bd4b",
   "metadata": {},
   "outputs": [],
   "source": [
    "# importando classe Perceptron criada no projeto\n",
    "from src.perceptron import Perceptron\n",
    "from sklearn.model_selection import train_test_split\n",
    "from random import randint\n",
    "\n",
    "# função que separa randomicamente os dados em treino/teste\n",
    "# realiza o processo de aprendizagem com os dados de treino\n",
    "# calcula a acuracia nos dados de teste\n",
    "def executar(n_testes, treino_teste=0.8, taxa_aprend=0.5):\n",
    "    soma_acuracia = 0\n",
    "    for rodada in range(n_testes):\n",
    "        # Para Debug\n",
    "        # utilizando randomicamente uma seed por rodada\n",
    "        seed = randint(1, 99999)\n",
    "\n",
    "        # separando aleatoriamente o conjunto de dados\n",
    "        df_teste, df_treino = train_test_split(df, test_size=treino_teste, shuffle=True, stratify=df['y'], random_state=seed)\n",
    "\n",
    "        # treino\n",
    "        p = Perceptron(n_entradas=len(df.columns)-2, tx=taxa_aprend)\n",
    "        p.treinar(df_treino)\n",
    "\n",
    "        # teste\n",
    "        n = 0\n",
    "        for i in df_teste.index:\n",
    "            X = [x for x in df_teste.loc[i, df_teste.columns != 'y']]\n",
    "            Y = df_teste['y'][i]\n",
    "            y = p.prever(X)\n",
    "            n += 1 if Y == y else 0\n",
    "        \n",
    "        acuracia = n/len(df_teste)\n",
    "        soma_acuracia += acuracia\n",
    "\n",
    "        # Para Debug\n",
    "        # ver casos onde acuracia não foi 100%\n",
    "        #if acuracia < 1:\n",
    "        #    print(f'Seed cuja acuracia < 100%: {seed}')\n",
    "\n",
    "    print('Acuracia Media: {:.2f}%'.format(100*(soma_acuracia/n_testes)))"
   ]
  },
  {
   "cell_type": "code",
   "execution_count": null,
   "id": "c4d06f4a",
   "metadata": {},
   "outputs": [],
   "source": [
    "n = 1000\n",
    "treino = 0.8\n",
    "taxa = 0.1\n",
    "\n",
    "executar(n_testes=n, treino_teste=treino, taxa_aprend=taxa)"
   ]
  },
  {
   "cell_type": "markdown",
   "id": "af5cf603",
   "metadata": {},
   "source": [
    "Debug"
   ]
  },
  {
   "cell_type": "code",
   "execution_count": null,
   "id": "27cd7967",
   "metadata": {},
   "outputs": [],
   "source": [
    "arr_seed = [\n",
    "    48552,\n",
    "    36844,\n",
    "    95253,\n",
    "    30532,\n",
    "]\n",
    "\n",
    "for seed in arr_seed:\n",
    "    df_teste, df_treino = train_test_split(df, test_size=treino, shuffle=True, stratify=df['y'], random_state=seed)\n",
    "    print(df_teste.index.sort_values())\n",
    "\n",
    "\n",
    "    # treino\n",
    "    p = Perceptron(n_entradas=len(df.columns)-2, tx=taxa)\n",
    "    p.treinar(df_treino)\n",
    "\n",
    "    # teste\n",
    "    n = 0\n",
    "    for i in df_teste.index:\n",
    "        X = [x for x in df_teste.loc[i, df_teste.columns != 'y']]\n",
    "        Y = df_teste['y'][i]\n",
    "        y = p.prever(X)\n",
    "        n += 1 if Y == y else 0\n",
    "\n",
    "    acuracia = n/len(df_teste)\n",
    "\n",
    "    print('Acuracia: {:.2f}%'.format(100*acuracia))"
   ]
  },
  {
   "cell_type": "code",
   "execution_count": null,
   "id": "797f153d",
   "metadata": {},
   "outputs": [],
   "source": []
  }
 ],
 "metadata": {
  "kernelspec": {
   "display_name": "Python 3 (ipykernel)",
   "language": "python",
   "name": "python3"
  },
  "language_info": {
   "codemirror_mode": {
    "name": "ipython",
    "version": 3
   },
   "file_extension": ".py",
   "mimetype": "text/x-python",
   "name": "python",
   "nbconvert_exporter": "python",
   "pygments_lexer": "ipython3",
   "version": "3.9.7"
  }
 },
 "nbformat": 4,
 "nbformat_minor": 5
}
