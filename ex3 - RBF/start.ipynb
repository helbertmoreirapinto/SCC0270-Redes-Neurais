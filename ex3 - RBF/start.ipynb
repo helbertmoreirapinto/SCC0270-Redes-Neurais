{
 "cells": [
  {
   "cell_type": "markdown",
   "metadata": {},
   "source": [
    "# SCC0270 - Redes Neurais e Aprendizado Profundo\n",
    "---"
   ]
  },
  {
   "cell_type": "markdown",
   "metadata": {},
   "source": [
    "Alunos:\n",
    "- 10716504 - Helbert Moreira Pinto\n",
    "- 10377708 - João Marcos Della Torre Divino"
   ]
  },
  {
   "cell_type": "markdown",
   "metadata": {},
   "source": [
    "---\n",
    "\n",
    "Exercício 3 - Dado o conjunto de dados: wine.dat:\n",
    "- Utilizar uma rede MLP (utilizando o termo de momentum) para classificar o conjunto de dados.\n",
    "- Utilizar uma RBF para classificar o mesmo conjunto.\n",
    "- Comparar a acurácia dos modelos na classificação dos dados. \n",
    "\n",
    "---"
   ]
  },
  {
   "cell_type": "markdown",
   "metadata": {},
   "source": [
    "### Introdução"
   ]
  },
  {
   "cell_type": "markdown",
   "metadata": {},
   "source": [
    "Uma função de ativação de base radial é caracterizada por apresentar uma resposta que é monotonamente crescente ou decerescente com a distancia em relação a um ponto central.  \n",
    "O centro e a taxa de variação (crescimento ou decrescimento) em cada direção são alguns dos parametros definidos que devem ser constantes.  "
   ]
  },
  {
   "cell_type": "markdown",
   "metadata": {},
   "source": [
    "Temos funções de ativação da forma gaussiana, multiquadrativa ou chapeu mexicano. Utilizamos no exercicio a função de forma gaussiana, que possui a seguinte formula:\n",
    "$$h_j = e^{ - \\frac {(w-c_j)^2} {r^2_j}}$$"
   ]
  },
  {
   "cell_type": "markdown",
   "metadata": {},
   "source": [
    "<figure>\n",
    "    <img src='imgs/gaussiana.png' alt='Função gaussiana' width='1000' />\n",
    "    <figcaption>Graficos da função gaussiana</figcaption>\n",
    "</figure>"
   ]
  },
  {
   "cell_type": "markdown",
   "metadata": {},
   "source": [
    "Neste caso, os elementos do vetor $\\sigma_j = [\\sigma_{j1}\\ \\sigma_{j2}\\ \\cdots \\sigma_{jn}]^T$ são responsáveis pela taxa de decrescimento da gaussiana junto a cada coordenada do espaço de entrada, e o argumento da função exponencial é uma norma ponderada da diferença entre o vetor de entrada ($x$) e o centro da função de base radial ($c_j$)."
   ]
  },
  {
   "cell_type": "markdown",
   "metadata": {},
   "source": [
    "---\n",
    "### Implementação da Rede RBF (Radial Base Function)"
   ]
  },
  {
   "cell_type": "markdown",
   "metadata": {},
   "source": [
    "As redes neurais com função de ativação de base radial (em inglês, radial-basis function, RBF) apresentam três diferenças principais em relação às redes MLP:\n",
    "- Elas sempre apresentam uma única camada intermediária;\n",
    "- Os neurônios de saída são sempre lineares;\n",
    "- Os neurônios da camada intermediária têm uma função de base radial como função de ativação, ao invés de uma função sigmoidal. "
   ]
  },
  {
   "cell_type": "markdown",
   "metadata": {},
   "source": [
    "<figure>\n",
    "    <img src='imgs/rede_rbf.png' alt='rede rbf' width='1000'/>\n",
    "    <figcaption>Rede RBF para uma saída</figcaption>\n",
    "</figure>"
   ]
  },
  {
   "cell_type": "markdown",
   "metadata": {},
   "source": [
    "Ao invés da ativação interna de cada neurônio da camada intermediária se dar pelo emprego do produto escalar (produto interno) entre o vetor de entradas e o vetor de pesos, como no caso da rede MLP-BP, ela é obtida a partir de uma norma ponderada da diferença entre ambos os vetores.  \n"
   ]
  },
  {
   "cell_type": "markdown",
   "metadata": {},
   "source": [
    "---\n",
    "### Aplicação"
   ]
  },
  {
   "cell_type": "markdown",
   "metadata": {},
   "source": [
    "---\n",
    "#### Comparação com a Rede MLP-BP"
   ]
  },
  {
   "cell_type": "code",
   "execution_count": 1,
   "metadata": {},
   "outputs": [],
   "source": [
    "from src.rbf import RBF\n",
    "from src.mlp import MLP\n",
    "\n",
    "import numpy as np\n",
    "import pandas as pd\n",
    "from sklearn.model_selection import train_test_split\n",
    "from sklearn.preprocessing import MinMaxScaler"
   ]
  },
  {
   "cell_type": "code",
   "execution_count": 2,
   "metadata": {},
   "outputs": [],
   "source": [
    "# Dado um conjunto de dados, dividimos em treino/teste para a comparação de acuracia das redes no conjunto de testes\n",
    "def exercicio(X, y, test_size:float=0.2, random_state:int=10, max_epocas:int=50, tol_amostra:float=0.2):\n",
    "    X, y = np.array(X), np.array(y)\n",
    "    X_train, X_test, y_train, y_test = train_test_split(X, y, test_size=test_size, random_state=random_state, shuffle=True)\n",
    "\n",
    "    # MLP\n",
    "    rede_mlp = MLP(camadas=[len(X_train[0]), len(X_train[0]), len(y_train[0])],seed=random_state)\n",
    "    rede_mlp.treino(X_train, y_train, taxa=0.5, alpha=0.5, max_epocas=max_epocas)\n",
    "    acuracia_mlp = rede_mlp.teste(X_test, y_test, tol_amostra=tol_amostra)\n",
    "\n",
    "    # RBF\n",
    "    rede_rbf = RBF(n_classes=3,n_saidas=len(y_train[0]), seed=random_state)\n",
    "    rede_rbf.treino(X_train, y_train, eta=0.5, max_epocas=max_epocas)\n",
    "    acuracia_rbf = rede_rbf.teste(X_test, y_test, tol_amostra=tol_amostra)\n",
    "\n",
    "    return acuracia_mlp, acuracia_rbf"
   ]
  },
  {
   "cell_type": "markdown",
   "metadata": {},
   "source": [
    "---\n",
    "#### Preparando os Dados"
   ]
  },
  {
   "cell_type": "code",
   "execution_count": 3,
   "metadata": {},
   "outputs": [
    {
     "data": {
      "text/html": [
       "<div>\n",
       "<style scoped>\n",
       "    .dataframe tbody tr th:only-of-type {\n",
       "        vertical-align: middle;\n",
       "    }\n",
       "\n",
       "    .dataframe tbody tr th {\n",
       "        vertical-align: top;\n",
       "    }\n",
       "\n",
       "    .dataframe thead th {\n",
       "        text-align: right;\n",
       "    }\n",
       "</style>\n",
       "<table border=\"1\" class=\"dataframe\">\n",
       "  <thead>\n",
       "    <tr style=\"text-align: right;\">\n",
       "      <th></th>\n",
       "      <th>0</th>\n",
       "      <th>1</th>\n",
       "      <th>2</th>\n",
       "      <th>3</th>\n",
       "      <th>4</th>\n",
       "      <th>5</th>\n",
       "      <th>6</th>\n",
       "      <th>7</th>\n",
       "      <th>8</th>\n",
       "      <th>9</th>\n",
       "      <th>10</th>\n",
       "      <th>11</th>\n",
       "      <th>12</th>\n",
       "      <th>13</th>\n",
       "    </tr>\n",
       "  </thead>\n",
       "  <tbody>\n",
       "    <tr>\n",
       "      <th>0</th>\n",
       "      <td>1</td>\n",
       "      <td>14.23</td>\n",
       "      <td>1.71</td>\n",
       "      <td>2.43</td>\n",
       "      <td>15.6</td>\n",
       "      <td>127</td>\n",
       "      <td>2.80</td>\n",
       "      <td>3.06</td>\n",
       "      <td>0.28</td>\n",
       "      <td>2.29</td>\n",
       "      <td>5.64</td>\n",
       "      <td>1.04</td>\n",
       "      <td>3.92</td>\n",
       "      <td>1065</td>\n",
       "    </tr>\n",
       "    <tr>\n",
       "      <th>1</th>\n",
       "      <td>1</td>\n",
       "      <td>13.20</td>\n",
       "      <td>1.78</td>\n",
       "      <td>2.14</td>\n",
       "      <td>11.2</td>\n",
       "      <td>100</td>\n",
       "      <td>2.65</td>\n",
       "      <td>2.76</td>\n",
       "      <td>0.26</td>\n",
       "      <td>1.28</td>\n",
       "      <td>4.38</td>\n",
       "      <td>1.05</td>\n",
       "      <td>3.40</td>\n",
       "      <td>1050</td>\n",
       "    </tr>\n",
       "    <tr>\n",
       "      <th>2</th>\n",
       "      <td>1</td>\n",
       "      <td>13.16</td>\n",
       "      <td>2.36</td>\n",
       "      <td>2.67</td>\n",
       "      <td>18.6</td>\n",
       "      <td>101</td>\n",
       "      <td>2.80</td>\n",
       "      <td>3.24</td>\n",
       "      <td>0.30</td>\n",
       "      <td>2.81</td>\n",
       "      <td>5.68</td>\n",
       "      <td>1.03</td>\n",
       "      <td>3.17</td>\n",
       "      <td>1185</td>\n",
       "    </tr>\n",
       "    <tr>\n",
       "      <th>3</th>\n",
       "      <td>1</td>\n",
       "      <td>14.37</td>\n",
       "      <td>1.95</td>\n",
       "      <td>2.50</td>\n",
       "      <td>16.8</td>\n",
       "      <td>113</td>\n",
       "      <td>3.85</td>\n",
       "      <td>3.49</td>\n",
       "      <td>0.24</td>\n",
       "      <td>2.18</td>\n",
       "      <td>7.80</td>\n",
       "      <td>0.86</td>\n",
       "      <td>3.45</td>\n",
       "      <td>1480</td>\n",
       "    </tr>\n",
       "    <tr>\n",
       "      <th>4</th>\n",
       "      <td>1</td>\n",
       "      <td>13.24</td>\n",
       "      <td>2.59</td>\n",
       "      <td>2.87</td>\n",
       "      <td>21.0</td>\n",
       "      <td>118</td>\n",
       "      <td>2.80</td>\n",
       "      <td>2.69</td>\n",
       "      <td>0.39</td>\n",
       "      <td>1.82</td>\n",
       "      <td>4.32</td>\n",
       "      <td>1.04</td>\n",
       "      <td>2.93</td>\n",
       "      <td>735</td>\n",
       "    </tr>\n",
       "  </tbody>\n",
       "</table>\n",
       "</div>"
      ],
      "text/plain": [
       "   0      1     2     3     4    5     6     7     8     9     10    11    12  \\\n",
       "0   1  14.23  1.71  2.43  15.6  127  2.80  3.06  0.28  2.29  5.64  1.04  3.92   \n",
       "1   1  13.20  1.78  2.14  11.2  100  2.65  2.76  0.26  1.28  4.38  1.05  3.40   \n",
       "2   1  13.16  2.36  2.67  18.6  101  2.80  3.24  0.30  2.81  5.68  1.03  3.17   \n",
       "3   1  14.37  1.95  2.50  16.8  113  3.85  3.49  0.24  2.18  7.80  0.86  3.45   \n",
       "4   1  13.24  2.59  2.87  21.0  118  2.80  2.69  0.39  1.82  4.32  1.04  2.93   \n",
       "\n",
       "     13  \n",
       "0  1065  \n",
       "1  1050  \n",
       "2  1185  \n",
       "3  1480  \n",
       "4   735  "
      ]
     },
     "execution_count": 3,
     "metadata": {},
     "output_type": "execute_result"
    }
   ],
   "source": [
    "wine_df  = pd.read_csv('data/wine.data', header=None)\n",
    "wine_df.head()"
   ]
  },
  {
   "cell_type": "code",
   "execution_count": 4,
   "metadata": {},
   "outputs": [
    {
     "data": {
      "text/html": [
       "<div>\n",
       "<style scoped>\n",
       "    .dataframe tbody tr th:only-of-type {\n",
       "        vertical-align: middle;\n",
       "    }\n",
       "\n",
       "    .dataframe tbody tr th {\n",
       "        vertical-align: top;\n",
       "    }\n",
       "\n",
       "    .dataframe thead th {\n",
       "        text-align: right;\n",
       "    }\n",
       "</style>\n",
       "<table border=\"1\" class=\"dataframe\">\n",
       "  <thead>\n",
       "    <tr style=\"text-align: right;\">\n",
       "      <th></th>\n",
       "      <th>0</th>\n",
       "      <th>1</th>\n",
       "      <th>2</th>\n",
       "      <th>3</th>\n",
       "      <th>4</th>\n",
       "      <th>5</th>\n",
       "      <th>6</th>\n",
       "      <th>7</th>\n",
       "      <th>8</th>\n",
       "      <th>9</th>\n",
       "      <th>10</th>\n",
       "      <th>11</th>\n",
       "      <th>12</th>\n",
       "      <th>13</th>\n",
       "    </tr>\n",
       "  </thead>\n",
       "  <tbody>\n",
       "    <tr>\n",
       "      <th>0</th>\n",
       "      <td>0.0</td>\n",
       "      <td>0.842105</td>\n",
       "      <td>0.191700</td>\n",
       "      <td>0.572193</td>\n",
       "      <td>0.257732</td>\n",
       "      <td>0.619565</td>\n",
       "      <td>0.627586</td>\n",
       "      <td>0.573840</td>\n",
       "      <td>0.283019</td>\n",
       "      <td>0.593060</td>\n",
       "      <td>0.372014</td>\n",
       "      <td>0.455285</td>\n",
       "      <td>0.970696</td>\n",
       "      <td>0.561341</td>\n",
       "    </tr>\n",
       "    <tr>\n",
       "      <th>1</th>\n",
       "      <td>0.0</td>\n",
       "      <td>0.571053</td>\n",
       "      <td>0.205534</td>\n",
       "      <td>0.417112</td>\n",
       "      <td>0.030928</td>\n",
       "      <td>0.326087</td>\n",
       "      <td>0.575862</td>\n",
       "      <td>0.510549</td>\n",
       "      <td>0.245283</td>\n",
       "      <td>0.274448</td>\n",
       "      <td>0.264505</td>\n",
       "      <td>0.463415</td>\n",
       "      <td>0.780220</td>\n",
       "      <td>0.550642</td>\n",
       "    </tr>\n",
       "    <tr>\n",
       "      <th>2</th>\n",
       "      <td>0.0</td>\n",
       "      <td>0.560526</td>\n",
       "      <td>0.320158</td>\n",
       "      <td>0.700535</td>\n",
       "      <td>0.412371</td>\n",
       "      <td>0.336957</td>\n",
       "      <td>0.627586</td>\n",
       "      <td>0.611814</td>\n",
       "      <td>0.320755</td>\n",
       "      <td>0.757098</td>\n",
       "      <td>0.375427</td>\n",
       "      <td>0.447154</td>\n",
       "      <td>0.695971</td>\n",
       "      <td>0.646933</td>\n",
       "    </tr>\n",
       "    <tr>\n",
       "      <th>3</th>\n",
       "      <td>0.0</td>\n",
       "      <td>0.878947</td>\n",
       "      <td>0.239130</td>\n",
       "      <td>0.609626</td>\n",
       "      <td>0.319588</td>\n",
       "      <td>0.467391</td>\n",
       "      <td>0.989655</td>\n",
       "      <td>0.664557</td>\n",
       "      <td>0.207547</td>\n",
       "      <td>0.558360</td>\n",
       "      <td>0.556314</td>\n",
       "      <td>0.308943</td>\n",
       "      <td>0.798535</td>\n",
       "      <td>0.857347</td>\n",
       "    </tr>\n",
       "    <tr>\n",
       "      <th>4</th>\n",
       "      <td>0.0</td>\n",
       "      <td>0.581579</td>\n",
       "      <td>0.365613</td>\n",
       "      <td>0.807487</td>\n",
       "      <td>0.536082</td>\n",
       "      <td>0.521739</td>\n",
       "      <td>0.627586</td>\n",
       "      <td>0.495781</td>\n",
       "      <td>0.490566</td>\n",
       "      <td>0.444795</td>\n",
       "      <td>0.259386</td>\n",
       "      <td>0.455285</td>\n",
       "      <td>0.608059</td>\n",
       "      <td>0.325963</td>\n",
       "    </tr>\n",
       "  </tbody>\n",
       "</table>\n",
       "</div>"
      ],
      "text/plain": [
       "    0         1         2         3         4         5         6         7   \\\n",
       "0  0.0  0.842105  0.191700  0.572193  0.257732  0.619565  0.627586  0.573840   \n",
       "1  0.0  0.571053  0.205534  0.417112  0.030928  0.326087  0.575862  0.510549   \n",
       "2  0.0  0.560526  0.320158  0.700535  0.412371  0.336957  0.627586  0.611814   \n",
       "3  0.0  0.878947  0.239130  0.609626  0.319588  0.467391  0.989655  0.664557   \n",
       "4  0.0  0.581579  0.365613  0.807487  0.536082  0.521739  0.627586  0.495781   \n",
       "\n",
       "         8         9         10        11        12        13  \n",
       "0  0.283019  0.593060  0.372014  0.455285  0.970696  0.561341  \n",
       "1  0.245283  0.274448  0.264505  0.463415  0.780220  0.550642  \n",
       "2  0.320755  0.757098  0.375427  0.447154  0.695971  0.646933  \n",
       "3  0.207547  0.558360  0.556314  0.308943  0.798535  0.857347  \n",
       "4  0.490566  0.444795  0.259386  0.455285  0.608059  0.325963  "
      ]
     },
     "execution_count": 4,
     "metadata": {},
     "output_type": "execute_result"
    }
   ],
   "source": [
    "# Normalização\n",
    "scaler = MinMaxScaler()\n",
    "wine_norm = scaler.fit_transform(wine_df)\n",
    "wine_norm = pd.DataFrame(wine_norm)\n",
    "wine_norm.columns = wine_df.columns\n",
    "wine_norm.head()"
   ]
  },
  {
   "cell_type": "code",
   "execution_count": 5,
   "metadata": {},
   "outputs": [],
   "source": [
    "# Separando as variavis explicativas da variavel resposta\n",
    "wine_X = wine_norm.drop(columns=[0])\n",
    "wine_y = wine_norm[[0]]"
   ]
  },
  {
   "cell_type": "markdown",
   "metadata": {},
   "source": [
    "---\n",
    "#### Comparação"
   ]
  },
  {
   "cell_type": "code",
   "execution_count": 6,
   "metadata": {},
   "outputs": [
    {
     "name": "stdout",
     "output_type": "stream",
     "text": [
      "Acuracia MLP 41.67%\n",
      "Acuracia RBF 94.44%\n"
     ]
    }
   ],
   "source": [
    "test_size = 0.2\n",
    "random_state = 123\n",
    "max_epocas = 2\n",
    "tol_amostra = 0.2\n",
    "\n",
    "mlp, rbf = exercicio(\n",
    "        wine_X, wine_y,\n",
    "        test_size=test_size,\n",
    "        random_state = random_state,\n",
    "        max_epocas=max_epocas,\n",
    "        tol_amostra = tol_amostra\n",
    "    )\n",
    "\n",
    "print('Acuracia MLP {:.2f}%'.format(100*mlp))\n",
    "print('Acuracia RBF {:.2f}%'.format(100*rbf))"
   ]
  },
  {
   "cell_type": "code",
   "execution_count": 7,
   "metadata": {},
   "outputs": [
    {
     "name": "stdout",
     "output_type": "stream",
     "text": [
      "Acuracia MLP 86.11%\n",
      "Acuracia RBF 91.67%\n"
     ]
    }
   ],
   "source": [
    "test_size = 0.2\n",
    "random_state = 123\n",
    "max_epocas = 25\n",
    "tol_amostra = 0.2\n",
    "\n",
    "mlp, rbf = exercicio(\n",
    "        wine_X, wine_y,\n",
    "        test_size=test_size,\n",
    "        random_state = random_state,\n",
    "        max_epocas=max_epocas,\n",
    "        tol_amostra = tol_amostra\n",
    "    )\n",
    "\n",
    "print('Acuracia MLP {:.2f}%'.format(100*mlp))\n",
    "print('Acuracia RBF {:.2f}%'.format(100*rbf))"
   ]
  },
  {
   "cell_type": "code",
   "execution_count": 8,
   "metadata": {},
   "outputs": [
    {
     "name": "stdout",
     "output_type": "stream",
     "text": [
      "Acuracia MLP 88.89%\n",
      "Acuracia RBF 91.67%\n"
     ]
    }
   ],
   "source": [
    "test_size = 0.2\n",
    "random_state = 10\n",
    "max_epocas = 50\n",
    "tol_amostra = 0.2\n",
    "\n",
    "mlp, rbf = exercicio(\n",
    "        wine_X, wine_y,\n",
    "        test_size=test_size,\n",
    "        random_state = random_state,\n",
    "        max_epocas=max_epocas,\n",
    "        tol_amostra = tol_amostra\n",
    "    )\n",
    "\n",
    "print('Acuracia MLP {:.2f}%'.format(100*mlp))\n",
    "print('Acuracia RBF {:.2f}%'.format(100*rbf))"
   ]
  },
  {
   "cell_type": "markdown",
   "metadata": {},
   "source": [
    "Analisamos agora quantas epocas de treino são necessárias para que a rede MLP-BP tenha mesma acurácia que a rede RBF"
   ]
  },
  {
   "cell_type": "code",
   "execution_count": 22,
   "metadata": {},
   "outputs": [],
   "source": [
    "rnd = 15\n",
    "tol_amostra = 0.2\n",
    "X, y = np.array(wine_X), np.array(wine_y)\n",
    "X_train, X_test, y_train, y_test = train_test_split(X, y, test_size=0.2, random_state=rnd, shuffle=True)"
   ]
  },
  {
   "cell_type": "code",
   "execution_count": 23,
   "metadata": {},
   "outputs": [
    {
     "name": "stdout",
     "output_type": "stream",
     "text": [
      "Acuracia da rede RBF com 1 epoca de treino: 91.67%\n"
     ]
    }
   ],
   "source": [
    "rede_rbf = RBF(n_classes=3, n_saidas=len(y_train[0]), seed=rnd)\n",
    "rede_rbf.treino(X_train, y_train, eta=0.5, max_epocas=1)\n",
    "acuracia_rbf = rede_rbf.teste(X_test, y_test, tol_amostra=tol_amostra)\n",
    "print('Acuracia da rede RBF com 1 epoca de treino: {:.2f}%'.format(100*acuracia_rbf))"
   ]
  },
  {
   "cell_type": "code",
   "execution_count": 24,
   "metadata": {},
   "outputs": [
    {
     "name": "stdout",
     "output_type": "stream",
     "text": [
      "Necessario 66 epocas para acuracia da rede MLP ser melhor ou igual a da rede RBF\n"
     ]
    }
   ],
   "source": [
    "rede_mlp = MLP(camadas=[len(X_train[0]), len(X_train[0]), len(y_train[0])],seed=rnd)\n",
    "epoca = 1\n",
    "acuracia_mlp = 0\n",
    "while (epoca  < 500) and (acuracia_mlp < acuracia_rbf):\n",
    "    rede_mlp.treino(X_train, y_train, taxa=0.3, alpha=0.7, max_epocas=1)\n",
    "    acuracia_mlp = rede_mlp.teste(X_test, y_test, tol_amostra=tol_amostra)\n",
    "    epoca += 1\n",
    "print(f'Necessario {epoca} epocas para acuracia da rede MLP ser melhor ou igual a da rede RBF')"
   ]
  }
 ],
 "metadata": {
  "interpreter": {
   "hash": "0c362f297e4239dc0d82fd458d60b9809623b1ec8413596a84a70e4ec408583e"
  },
  "kernelspec": {
   "display_name": "Python 3.9.12 ('scc0270')",
   "language": "python",
   "name": "python3"
  },
  "language_info": {
   "codemirror_mode": {
    "name": "ipython",
    "version": 3
   },
   "file_extension": ".py",
   "mimetype": "text/x-python",
   "name": "python",
   "nbconvert_exporter": "python",
   "pygments_lexer": "ipython3",
   "version": "3.9.12"
  },
  "orig_nbformat": 4
 },
 "nbformat": 4,
 "nbformat_minor": 2
}
